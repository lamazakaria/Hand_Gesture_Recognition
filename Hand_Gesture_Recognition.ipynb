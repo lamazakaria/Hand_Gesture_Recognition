{
  "metadata": {
    "kernelspec": {
      "language": "python",
      "display_name": "Python 3",
      "name": "python3"
    },
    "language_info": {
      "name": "python",
      "version": "3.10.13",
      "mimetype": "text/x-python",
      "codemirror_mode": {
        "name": "ipython",
        "version": 3
      },
      "pygments_lexer": "ipython3",
      "nbconvert_exporter": "python",
      "file_extension": ".py"
    },
    "kaggle": {
      "accelerator": "none",
      "dataSources": [
        {
          "sourceId": 2586549,
          "sourceType": "datasetVersion",
          "datasetId": 1571228
        }
      ],
      "dockerImageVersionId": 30746,
      "isInternetEnabled": true,
      "language": "python",
      "sourceType": "notebook",
      "isGpuEnabled": false
    },
    "colab": {
      "name": "Hand Gesture Recognition",
      "provenance": [],
      "include_colab_link": true
    }
  },
  "nbformat_minor": 0,
  "nbformat": 4,
  "cells": [
    {
      "cell_type": "markdown",
      "metadata": {
        "id": "view-in-github",
        "colab_type": "text"
      },
      "source": [
        "<a href=\"https://colab.research.google.com/github/lamazakaria/Hand_Gesture_Recognition/blob/main/Hand_Gesture_Recognition.ipynb\" target=\"_parent\"><img src=\"https://colab.research.google.com/assets/colab-badge.svg\" alt=\"Open In Colab\"/></a>"
      ]
    },
    {
      "source": [
        "\n",
        "# IMPORTANT: RUN THIS CELL IN ORDER TO IMPORT YOUR KAGGLE DATA SOURCES\n",
        "# TO THE CORRECT LOCATION (/kaggle/input) IN YOUR NOTEBOOK,\n",
        "# THEN FEEL FREE TO DELETE THIS CELL.\n",
        "# NOTE: THIS NOTEBOOK ENVIRONMENT DIFFERS FROM KAGGLE'S PYTHON\n",
        "# ENVIRONMENT SO THERE MAY BE MISSING LIBRARIES USED BY YOUR\n",
        "# NOTEBOOK.\n",
        "\n",
        "import os\n",
        "import sys\n",
        "from tempfile import NamedTemporaryFile\n",
        "from urllib.request import urlopen\n",
        "from urllib.parse import unquote, urlparse\n",
        "from urllib.error import HTTPError\n",
        "from zipfile import ZipFile\n",
        "import tarfile\n",
        "import shutil\n",
        "\n",
        "CHUNK_SIZE = 40960\n",
        "DATA_SOURCE_MAPPING = 'hand-gesture-recognition-dataset:https%3A%2F%2Fstorage.googleapis.com%2Fkaggle-data-sets%2F1571228%2F2586549%2Fbundle%2Farchive.zip%3FX-Goog-Algorithm%3DGOOG4-RSA-SHA256%26X-Goog-Credential%3Dgcp-kaggle-com%2540kaggle-161607.iam.gserviceaccount.com%252F20240810%252Fauto%252Fstorage%252Fgoog4_request%26X-Goog-Date%3D20240810T192210Z%26X-Goog-Expires%3D259200%26X-Goog-SignedHeaders%3Dhost%26X-Goog-Signature%3D5ac9bbcab6540f3171628ca439b207f1d1b5684d5bb20f9d7d2c946b3db59091b8e6964723fc16d10bb49917a0a33758a9fc606188d1848b074cc358fac7db606da423a4f6363d0f7074270e30039e3c099ab988b7a3cff0d46f6d21ace40ff4b4d490764492f1ac936cd3a9f9c6caf886c6b97972c49d16e40f3865ab0e909ac26552ae9f0e6f5317705c23508d63591f98f1754ccb03c42d5c8ebc09efba44bd234d83abcefea1bc8048c90a19ffc92ae97263f1eaeafd15dc7d1f0b5e670c7a96e445fd8806657a0c8b1e4ca6996ac280a22c526ea831894baa1e4def7118d41684f186e752bfec59bce20b072197dd1b52ac7eeb9a54d0f0f6283bf42b95'\n",
        "\n",
        "KAGGLE_INPUT_PATH='/kaggle/input'\n",
        "KAGGLE_WORKING_PATH='/kaggle/working'\n",
        "KAGGLE_SYMLINK='kaggle'\n",
        "\n",
        "!umount /kaggle/input/ 2> /dev/null\n",
        "shutil.rmtree('/kaggle/input', ignore_errors=True)\n",
        "os.makedirs(KAGGLE_INPUT_PATH, 0o777, exist_ok=True)\n",
        "os.makedirs(KAGGLE_WORKING_PATH, 0o777, exist_ok=True)\n",
        "\n",
        "try:\n",
        "  os.symlink(KAGGLE_INPUT_PATH, os.path.join(\"..\", 'input'), target_is_directory=True)\n",
        "except FileExistsError:\n",
        "  pass\n",
        "try:\n",
        "  os.symlink(KAGGLE_WORKING_PATH, os.path.join(\"..\", 'working'), target_is_directory=True)\n",
        "except FileExistsError:\n",
        "  pass\n",
        "\n",
        "for data_source_mapping in DATA_SOURCE_MAPPING.split(','):\n",
        "    directory, download_url_encoded = data_source_mapping.split(':')\n",
        "    download_url = unquote(download_url_encoded)\n",
        "    filename = urlparse(download_url).path\n",
        "    destination_path = os.path.join(KAGGLE_INPUT_PATH, directory)\n",
        "    try:\n",
        "        with urlopen(download_url) as fileres, NamedTemporaryFile() as tfile:\n",
        "            total_length = fileres.headers['content-length']\n",
        "            print(f'Downloading {directory}, {total_length} bytes compressed')\n",
        "            dl = 0\n",
        "            data = fileres.read(CHUNK_SIZE)\n",
        "            while len(data) > 0:\n",
        "                dl += len(data)\n",
        "                tfile.write(data)\n",
        "                done = int(50 * dl / int(total_length))\n",
        "                sys.stdout.write(f\"\\r[{'=' * done}{' ' * (50-done)}] {dl} bytes downloaded\")\n",
        "                sys.stdout.flush()\n",
        "                data = fileres.read(CHUNK_SIZE)\n",
        "            if filename.endswith('.zip'):\n",
        "              with ZipFile(tfile) as zfile:\n",
        "                zfile.extractall(destination_path)\n",
        "            else:\n",
        "              with tarfile.open(tfile.name) as tarfile:\n",
        "                tarfile.extractall(destination_path)\n",
        "            print(f'\\nDownloaded and uncompressed: {directory}')\n",
        "    except HTTPError as e:\n",
        "        print(f'Failed to load (likely expired) {download_url} to path {destination_path}')\n",
        "        continue\n",
        "    except OSError as e:\n",
        "        print(f'Failed to load {download_url} to path {destination_path}')\n",
        "        continue\n",
        "\n",
        "print('Data source import complete.')\n"
      ],
      "metadata": {
        "id": "9mbk_4xBvQgu"
      },
      "cell_type": "code",
      "outputs": [],
      "execution_count": null
    },
    {
      "cell_type": "code",
      "source": [
        "import glob\n",
        "import os\n",
        "import cv2\n",
        "import random\n",
        "import tensorflow as tf\n",
        "import numpy as np\n",
        "from tensorflow.data import Dataset\n",
        "from tensorflow.keras import Input, Model,activations,callbacks,optimizers\n",
        "from tensorflow.keras.layers import Dense, LSTM, Flatten ,Activation , Dropout, BatchNormalization, SimpleRNN"
      ],
      "metadata": {
        "execution": {
          "iopub.status.busy": "2024-08-10T16:22:26.100894Z",
          "iopub.execute_input": "2024-08-10T16:22:26.101333Z",
          "iopub.status.idle": "2024-08-10T16:22:30.636072Z",
          "shell.execute_reply.started": "2024-08-10T16:22:26.101295Z",
          "shell.execute_reply": "2024-08-10T16:22:30.634905Z"
        },
        "trusted": true,
        "id": "KZbfh0A_vQgx",
        "outputId": "cda8df44-07f3-47aa-cf21-0153a3faec93"
      },
      "execution_count": null,
      "outputs": [
        {
          "name": "stderr",
          "text": "2024-08-10 16:22:26.575829: E external/local_xla/xla/stream_executor/cuda/cuda_dnn.cc:9261] Unable to register cuDNN factory: Attempting to register factory for plugin cuDNN when one has already been registered\n2024-08-10 16:22:26.575913: E external/local_xla/xla/stream_executor/cuda/cuda_fft.cc:607] Unable to register cuFFT factory: Attempting to register factory for plugin cuFFT when one has already been registered\n2024-08-10 16:22:26.577738: E external/local_xla/xla/stream_executor/cuda/cuda_blas.cc:1515] Unable to register cuBLAS factory: Attempting to register factory for plugin cuBLAS when one has already been registered\n",
          "output_type": "stream"
        }
      ]
    },
    {
      "cell_type": "code",
      "source": [
        "x_train = glob.glob('/kaggle/input/hand-gesture-recognition-dataset/train/train/*/*')\n",
        "x_test = glob.glob('/kaggle/input/hand-gesture-recognition-dataset/test/test/*/*')\n",
        "print(f\"length test:{len(x_test)}\")\n",
        "print(f\"length train:{len(x_train)}\")\n"
      ],
      "metadata": {
        "execution": {
          "iopub.status.busy": "2024-08-10T16:22:30.638489Z",
          "iopub.execute_input": "2024-08-10T16:22:30.639171Z",
          "iopub.status.idle": "2024-08-10T16:22:30.788053Z",
          "shell.execute_reply.started": "2024-08-10T16:22:30.639134Z",
          "shell.execute_reply": "2024-08-10T16:22:30.786832Z"
        },
        "trusted": true,
        "id": "ym6cnX7IvQgy",
        "outputId": "289fd702-9191-4e13-b873-c9c5f508ded6"
      },
      "execution_count": null,
      "outputs": [
        {
          "name": "stdout",
          "text": "length test:6000\nlength train:18000\n",
          "output_type": "stream"
        }
      ]
    },
    {
      "cell_type": "code",
      "source": [
        "\n",
        "validation_split = 0.2\n",
        "validation_length = int(validation_split*len(x_train))\n",
        "indices = np.random.choice(len(x_train), validation_length,replace=False)\n",
        "print(validation_length)\n",
        "x_valid = [x_train[idx] for idx in indices]\n",
        "x_train = [x_train[idx] for idx in range(len(x_train)) if idx not in indices]\n"
      ],
      "metadata": {
        "execution": {
          "iopub.status.busy": "2024-08-10T16:22:30.789871Z",
          "iopub.execute_input": "2024-08-10T16:22:30.790372Z",
          "iopub.status.idle": "2024-08-10T16:22:30.958362Z",
          "shell.execute_reply.started": "2024-08-10T16:22:30.790327Z",
          "shell.execute_reply": "2024-08-10T16:22:30.957115Z"
        },
        "trusted": true,
        "id": "PURPwN05vQgy",
        "outputId": "6b81e334-d8a1-4d57-fe35-301747e831cd"
      },
      "execution_count": null,
      "outputs": [
        {
          "name": "stdout",
          "text": "3600\n",
          "output_type": "stream"
        }
      ]
    },
    {
      "cell_type": "code",
      "source": [
        "print(len(x_valid),len(x_train))\n",
        "print(len(indices))"
      ],
      "metadata": {
        "execution": {
          "iopub.status.busy": "2024-08-10T16:22:30.962184Z",
          "iopub.execute_input": "2024-08-10T16:22:30.962691Z",
          "iopub.status.idle": "2024-08-10T16:22:30.96952Z",
          "shell.execute_reply.started": "2024-08-10T16:22:30.962645Z",
          "shell.execute_reply": "2024-08-10T16:22:30.96823Z"
        },
        "trusted": true,
        "id": "UVayryN9vQgy",
        "outputId": "4f93c478-fc08-4f32-f9d5-020e5e532cfa"
      },
      "execution_count": null,
      "outputs": [
        {
          "name": "stdout",
          "text": "3600 14400\n3600\n",
          "output_type": "stream"
        }
      ]
    },
    {
      "cell_type": "code",
      "source": [
        "\n",
        "# Set the random seed\n",
        "rnd=random.Random(42)\n",
        "rnd.shuffle(x_train)\n",
        "rnd.shuffle(x_test)\n",
        "rnd.shuffle(x_valid)"
      ],
      "metadata": {
        "execution": {
          "iopub.status.busy": "2024-08-10T16:22:30.970769Z",
          "iopub.execute_input": "2024-08-10T16:22:30.971191Z",
          "iopub.status.idle": "2024-08-10T16:22:31.005892Z",
          "shell.execute_reply.started": "2024-08-10T16:22:30.971156Z",
          "shell.execute_reply": "2024-08-10T16:22:31.004389Z"
        },
        "trusted": true,
        "id": "iyUzNO1MvQgz"
      },
      "execution_count": null,
      "outputs": []
    },
    {
      "cell_type": "code",
      "source": [
        "print(x_train[0],x_test[0])"
      ],
      "metadata": {
        "execution": {
          "iopub.status.busy": "2024-08-10T16:22:31.008116Z",
          "iopub.execute_input": "2024-08-10T16:22:31.008596Z",
          "iopub.status.idle": "2024-08-10T16:22:31.016594Z",
          "shell.execute_reply.started": "2024-08-10T16:22:31.008552Z",
          "shell.execute_reply": "2024-08-10T16:22:31.015348Z"
        },
        "trusted": true,
        "id": "ZT2W4B28vQgz",
        "outputId": "ce342d4c-0522-4042-8855-d9a71f646539"
      },
      "execution_count": null,
      "outputs": [
        {
          "name": "stdout",
          "text": "/kaggle/input/hand-gesture-recognition-dataset/train/train/6/845.jpg /kaggle/input/hand-gesture-recognition-dataset/test/test/15/1079.jpg\n",
          "output_type": "stream"
        }
      ]
    },
    {
      "cell_type": "code",
      "source": [
        "batch_size=32\n",
        "epochs = 30\n",
        "\n"
      ],
      "metadata": {
        "execution": {
          "iopub.status.busy": "2024-08-10T16:22:31.018083Z",
          "iopub.execute_input": "2024-08-10T16:22:31.018494Z",
          "iopub.status.idle": "2024-08-10T16:22:31.026418Z",
          "shell.execute_reply.started": "2024-08-10T16:22:31.018452Z",
          "shell.execute_reply": "2024-08-10T16:22:31.025169Z"
        },
        "trusted": true,
        "id": "0Ak3gD3gvQgz"
      },
      "execution_count": null,
      "outputs": []
    },
    {
      "cell_type": "code",
      "source": [
        "def extract_label(path):\n",
        "    path = path.decode()\n",
        "    components = path.split('/')\n",
        "    label = components[-2]\n",
        "    label = tf.strings.to_number(label, out_type=tf.int32)\n",
        "    return tf.cast(label,tf.uint8)\n",
        "\n",
        "\n",
        ""
      ],
      "metadata": {
        "execution": {
          "iopub.status.busy": "2024-08-10T16:22:31.027571Z",
          "iopub.execute_input": "2024-08-10T16:22:31.027921Z",
          "iopub.status.idle": "2024-08-10T16:22:31.037605Z",
          "shell.execute_reply.started": "2024-08-10T16:22:31.027892Z",
          "shell.execute_reply": "2024-08-10T16:22:31.036211Z"
        },
        "trusted": true,
        "id": "OzEacK95vQgz"
      },
      "execution_count": null,
      "outputs": []
    },
    {
      "cell_type": "code",
      "source": [
        "def extract_contours(img_path):\n",
        "    img_path = img_path.decode()\n",
        "    img = cv2.imread(img_path)\n",
        "    if img is None:\n",
        "        raise ValueError(\"Image not found or unable to load.\")\n",
        "    img = cv2.resize(img,(100,100))\n",
        "    img = cv2.cvtColor(img,cv2.COLOR_BGR2GRAY)\n",
        "#     print(f\"image:{img.shape}\")\n",
        "    img_edges = cv2.Canny(img,100,180)\n",
        "\n",
        "    contours,_ = cv2.findContours(img_edges,cv2.RETR_TREE, cv2.CHAIN_APPROX_SIMPLE)\n",
        "#     concetaneted_contours = np.concatenate(contours,axis=0)\n",
        "#     concetaneted_contours =concetaneted_  contours.reshape(-1,2)\n",
        "    concetenated_contours = np.concatenate([contour.reshape(-1, 2) for contour in contours], axis=0)\n",
        "    concetenated_contours = concetenated_contours.astype(np.float32) / 255.0\n",
        "    return concetenated_contours\n",
        "\n",
        ""
      ],
      "metadata": {
        "execution": {
          "iopub.status.busy": "2024-08-10T16:22:31.039128Z",
          "iopub.execute_input": "2024-08-10T16:22:31.0396Z",
          "iopub.status.idle": "2024-08-10T16:22:31.050574Z",
          "shell.execute_reply.started": "2024-08-10T16:22:31.039561Z",
          "shell.execute_reply": "2024-08-10T16:22:31.049361Z"
        },
        "trusted": true,
        "id": "LWoMof7HvQg0"
      },
      "execution_count": null,
      "outputs": []
    },
    {
      "cell_type": "code",
      "source": [
        "def read_data(data):\n",
        "    label = tf.numpy_function(extract_label,[data],tf.uint8)\n",
        "    label = tf.reshape(label,())\n",
        "    features = tf.numpy_function(extract_contours,[data],tf.float32)\n",
        "    return features , label\n",
        ""
      ],
      "metadata": {
        "execution": {
          "iopub.status.busy": "2024-08-10T16:22:31.055549Z",
          "iopub.execute_input": "2024-08-10T16:22:31.055911Z",
          "iopub.status.idle": "2024-08-10T16:22:31.063114Z",
          "shell.execute_reply.started": "2024-08-10T16:22:31.055882Z",
          "shell.execute_reply": "2024-08-10T16:22:31.06204Z"
        },
        "trusted": true,
        "id": "e0TUMl-zvQg0"
      },
      "execution_count": null,
      "outputs": []
    },
    {
      "cell_type": "code",
      "source": [
        "def extract_max_features(features):\n",
        "    return  tf.shape(features)[0]\n",
        ""
      ],
      "metadata": {
        "execution": {
          "iopub.status.busy": "2024-08-10T16:22:31.064454Z",
          "iopub.execute_input": "2024-08-10T16:22:31.064787Z",
          "iopub.status.idle": "2024-08-10T16:22:31.072661Z",
          "shell.execute_reply.started": "2024-08-10T16:22:31.064748Z",
          "shell.execute_reply": "2024-08-10T16:22:31.071432Z"
        },
        "trusted": true,
        "id": "cOJUQNMbvQg0"
      },
      "execution_count": null,
      "outputs": []
    },
    {
      "cell_type": "code",
      "source": [
        "def prepare_data(data):\n",
        "    paddedshape = ([None,2],[])\n",
        "    max_no_features = 0\n",
        "    dataset = Dataset.from_tensor_slices(data)\n",
        "    dataset = dataset.map(read_data)\n",
        "    for features, label in dataset:\n",
        "        max_no_features = tf.maximum(max_no_features,extract_max_features(features))\n",
        "\n",
        "    dataset = dataset.padded_batch(batch_size,paddedshape)\n",
        "    dataset = dataset.prefetch(10)\n",
        "    return dataset, max_no_features\n",
        ""
      ],
      "metadata": {
        "execution": {
          "iopub.status.busy": "2024-08-10T16:22:31.074168Z",
          "iopub.execute_input": "2024-08-10T16:22:31.074587Z",
          "iopub.status.idle": "2024-08-10T16:22:31.084703Z",
          "shell.execute_reply.started": "2024-08-10T16:22:31.074549Z",
          "shell.execute_reply": "2024-08-10T16:22:31.083374Z"
        },
        "trusted": true,
        "id": "qskio_BEvQg0"
      },
      "execution_count": null,
      "outputs": []
    },
    {
      "cell_type": "code",
      "source": [
        "train_dataset, max_no_features_train = prepare_data(x_train)\n",
        "test_dataset, max_no_features_test = prepare_data(x_test)\n",
        "valid_dataset, max_no_features_valid = prepare_data(x_valid)"
      ],
      "metadata": {
        "execution": {
          "iopub.status.busy": "2024-08-10T16:22:31.087392Z",
          "iopub.execute_input": "2024-08-10T16:22:31.087821Z",
          "iopub.status.idle": "2024-08-10T16:24:03.948591Z",
          "shell.execute_reply.started": "2024-08-10T16:22:31.087783Z",
          "shell.execute_reply": "2024-08-10T16:24:03.947514Z"
        },
        "trusted": true,
        "id": "D8v-LihDvQg0"
      },
      "execution_count": null,
      "outputs": []
    },
    {
      "cell_type": "code",
      "source": [
        "for feature, label in train_dataset.take(3):\n",
        "    print(\"Image shape:\", feature.shape)\n",
        "    print(\"Label:\", label.numpy())\n",
        "#     [ 9  5 18  1  9 12 14  0  6 12 10  5 10  5 13  1 10  0 15  7 14 13 12 11\n",
        "#  13 12 10 10 15 11  8  1]"
      ],
      "metadata": {
        "execution": {
          "iopub.status.busy": "2024-08-10T16:24:03.950212Z",
          "iopub.execute_input": "2024-08-10T16:24:03.950673Z",
          "iopub.status.idle": "2024-08-10T16:24:04.348339Z",
          "shell.execute_reply.started": "2024-08-10T16:24:03.95063Z",
          "shell.execute_reply": "2024-08-10T16:24:04.347201Z"
        },
        "trusted": true,
        "id": "w1WEvz8dvQg0",
        "outputId": "0ff927ae-c097-4ad3-cf3c-1458f89a7e8c"
      },
      "execution_count": null,
      "outputs": [
        {
          "name": "stdout",
          "text": "Image shape: (32, 429, 2)\nLabel: [ 6 14 15 12 15  7 19 10 13 14  6 13 19 15 14 14  0  3  4  7 10  4 15  1\n  0  2 19  4  4  4  3  0]\nImage shape: (32, 477, 2)\nLabel: [ 3  9  9  5 11 16  0  9 15  1 17 17  5 11  5  3 16  4 10  7  5 15  0 18\n 13  2 16 10  7  0 19 18]\nImage shape: (32, 432, 2)\nLabel: [ 5 15 10 13 10 16 19 18  3 19 14 11 18  7  3  8  8 14 14  2 10  1 18  2\n  6 17 15  3 17 13 14 17]\n",
          "output_type": "stream"
        }
      ]
    },
    {
      "cell_type": "code",
      "source": [
        "print(f\"max_no_features:{max_no_features_test,max_no_features_valid,max_no_features_train}\")"
      ],
      "metadata": {
        "execution": {
          "iopub.status.busy": "2024-08-10T16:24:04.349734Z",
          "iopub.execute_input": "2024-08-10T16:24:04.350077Z",
          "iopub.status.idle": "2024-08-10T16:24:04.358358Z",
          "shell.execute_reply.started": "2024-08-10T16:24:04.350047Z",
          "shell.execute_reply": "2024-08-10T16:24:04.35715Z"
        },
        "trusted": true,
        "id": "iMZ2rp5mvQg1",
        "outputId": "0a8f0d28-64e6-46c4-e9bc-6243696cc941"
      },
      "execution_count": null,
      "outputs": [
        {
          "name": "stdout",
          "text": "max_no_features:(<tf.Tensor: shape=(), dtype=int32, numpy=544>, <tf.Tensor: shape=(), dtype=int32, numpy=530>, <tf.Tensor: shape=(), dtype=int32, numpy=525>)\n",
          "output_type": "stream"
        }
      ]
    },
    {
      "cell_type": "code",
      "source": [
        "inputs = Input(shape=(max_no_features_test.numpy(),2))\n",
        "lstm = LSTM(128,return_sequences =True)(inputs)\n",
        "x = BatchNormalization()(lstm)\n",
        "lstm_2  = LSTM(64)(x)\n",
        "x2 = BatchNormalization()(lstm_2)\n",
        "output = Dense(20,activation='softmax')(x2)\n",
        "model = Model(inputs,output)\n",
        "model.summary()"
      ],
      "metadata": {
        "execution": {
          "iopub.status.busy": "2024-08-10T16:24:04.35999Z",
          "iopub.execute_input": "2024-08-10T16:24:04.360325Z",
          "iopub.status.idle": "2024-08-10T16:24:04.490775Z",
          "shell.execute_reply.started": "2024-08-10T16:24:04.360268Z",
          "shell.execute_reply": "2024-08-10T16:24:04.489694Z"
        },
        "trusted": true,
        "id": "NVEryLiXvQg1",
        "outputId": "ea1eba7b-af4f-4ff9-b6d1-4b0877f7838e"
      },
      "execution_count": null,
      "outputs": [
        {
          "output_type": "display_data",
          "data": {
            "text/plain": "\u001b[1mModel: \"functional\"\u001b[0m\n",
            "text/html": "<pre style=\"white-space:pre;overflow-x:auto;line-height:normal;font-family:Menlo,'DejaVu Sans Mono',consolas,'Courier New',monospace\"><span style=\"font-weight: bold\">Model: \"functional\"</span>\n</pre>\n"
          },
          "metadata": {}
        },
        {
          "output_type": "display_data",
          "data": {
            "text/plain": "┏━━━━━━━━━━━━━━━━━━━━━━━━━━━━━━━━━┳━━━━━━━━━━━━━━━━━━━━━━━━┳━━━━━━━━━━━━━━━┓\n┃\u001b[1m \u001b[0m\u001b[1mLayer (type)                   \u001b[0m\u001b[1m \u001b[0m┃\u001b[1m \u001b[0m\u001b[1mOutput Shape          \u001b[0m\u001b[1m \u001b[0m┃\u001b[1m \u001b[0m\u001b[1m      Param #\u001b[0m\u001b[1m \u001b[0m┃\n┡━━━━━━━━━━━━━━━━━━━━━━━━━━━━━━━━━╇━━━━━━━━━━━━━━━━━━━━━━━━╇━━━━━━━━━━━━━━━┩\n│ input_layer (\u001b[38;5;33mInputLayer\u001b[0m)        │ (\u001b[38;5;45mNone\u001b[0m, \u001b[38;5;34m544\u001b[0m, \u001b[38;5;34m2\u001b[0m)         │             \u001b[38;5;34m0\u001b[0m │\n├─────────────────────────────────┼────────────────────────┼───────────────┤\n│ lstm (\u001b[38;5;33mLSTM\u001b[0m)                     │ (\u001b[38;5;45mNone\u001b[0m, \u001b[38;5;34m544\u001b[0m, \u001b[38;5;34m128\u001b[0m)       │        \u001b[38;5;34m67,072\u001b[0m │\n├─────────────────────────────────┼────────────────────────┼───────────────┤\n│ batch_normalization             │ (\u001b[38;5;45mNone\u001b[0m, \u001b[38;5;34m544\u001b[0m, \u001b[38;5;34m128\u001b[0m)       │           \u001b[38;5;34m512\u001b[0m │\n│ (\u001b[38;5;33mBatchNormalization\u001b[0m)            │                        │               │\n├─────────────────────────────────┼────────────────────────┼───────────────┤\n│ lstm_1 (\u001b[38;5;33mLSTM\u001b[0m)                   │ (\u001b[38;5;45mNone\u001b[0m, \u001b[38;5;34m64\u001b[0m)             │        \u001b[38;5;34m49,408\u001b[0m │\n├─────────────────────────────────┼────────────────────────┼───────────────┤\n│ batch_normalization_1           │ (\u001b[38;5;45mNone\u001b[0m, \u001b[38;5;34m64\u001b[0m)             │           \u001b[38;5;34m256\u001b[0m │\n│ (\u001b[38;5;33mBatchNormalization\u001b[0m)            │                        │               │\n├─────────────────────────────────┼────────────────────────┼───────────────┤\n│ dense (\u001b[38;5;33mDense\u001b[0m)                   │ (\u001b[38;5;45mNone\u001b[0m, \u001b[38;5;34m20\u001b[0m)             │         \u001b[38;5;34m1,300\u001b[0m │\n└─────────────────────────────────┴────────────────────────┴───────────────┘\n",
            "text/html": "<pre style=\"white-space:pre;overflow-x:auto;line-height:normal;font-family:Menlo,'DejaVu Sans Mono',consolas,'Courier New',monospace\">┏━━━━━━━━━━━━━━━━━━━━━━━━━━━━━━━━━┳━━━━━━━━━━━━━━━━━━━━━━━━┳━━━━━━━━━━━━━━━┓\n┃<span style=\"font-weight: bold\"> Layer (type)                    </span>┃<span style=\"font-weight: bold\"> Output Shape           </span>┃<span style=\"font-weight: bold\">       Param # </span>┃\n┡━━━━━━━━━━━━━━━━━━━━━━━━━━━━━━━━━╇━━━━━━━━━━━━━━━━━━━━━━━━╇━━━━━━━━━━━━━━━┩\n│ input_layer (<span style=\"color: #0087ff; text-decoration-color: #0087ff\">InputLayer</span>)        │ (<span style=\"color: #00d7ff; text-decoration-color: #00d7ff\">None</span>, <span style=\"color: #00af00; text-decoration-color: #00af00\">544</span>, <span style=\"color: #00af00; text-decoration-color: #00af00\">2</span>)         │             <span style=\"color: #00af00; text-decoration-color: #00af00\">0</span> │\n├─────────────────────────────────┼────────────────────────┼───────────────┤\n│ lstm (<span style=\"color: #0087ff; text-decoration-color: #0087ff\">LSTM</span>)                     │ (<span style=\"color: #00d7ff; text-decoration-color: #00d7ff\">None</span>, <span style=\"color: #00af00; text-decoration-color: #00af00\">544</span>, <span style=\"color: #00af00; text-decoration-color: #00af00\">128</span>)       │        <span style=\"color: #00af00; text-decoration-color: #00af00\">67,072</span> │\n├─────────────────────────────────┼────────────────────────┼───────────────┤\n│ batch_normalization             │ (<span style=\"color: #00d7ff; text-decoration-color: #00d7ff\">None</span>, <span style=\"color: #00af00; text-decoration-color: #00af00\">544</span>, <span style=\"color: #00af00; text-decoration-color: #00af00\">128</span>)       │           <span style=\"color: #00af00; text-decoration-color: #00af00\">512</span> │\n│ (<span style=\"color: #0087ff; text-decoration-color: #0087ff\">BatchNormalization</span>)            │                        │               │\n├─────────────────────────────────┼────────────────────────┼───────────────┤\n│ lstm_1 (<span style=\"color: #0087ff; text-decoration-color: #0087ff\">LSTM</span>)                   │ (<span style=\"color: #00d7ff; text-decoration-color: #00d7ff\">None</span>, <span style=\"color: #00af00; text-decoration-color: #00af00\">64</span>)             │        <span style=\"color: #00af00; text-decoration-color: #00af00\">49,408</span> │\n├─────────────────────────────────┼────────────────────────┼───────────────┤\n│ batch_normalization_1           │ (<span style=\"color: #00d7ff; text-decoration-color: #00d7ff\">None</span>, <span style=\"color: #00af00; text-decoration-color: #00af00\">64</span>)             │           <span style=\"color: #00af00; text-decoration-color: #00af00\">256</span> │\n│ (<span style=\"color: #0087ff; text-decoration-color: #0087ff\">BatchNormalization</span>)            │                        │               │\n├─────────────────────────────────┼────────────────────────┼───────────────┤\n│ dense (<span style=\"color: #0087ff; text-decoration-color: #0087ff\">Dense</span>)                   │ (<span style=\"color: #00d7ff; text-decoration-color: #00d7ff\">None</span>, <span style=\"color: #00af00; text-decoration-color: #00af00\">20</span>)             │         <span style=\"color: #00af00; text-decoration-color: #00af00\">1,300</span> │\n└─────────────────────────────────┴────────────────────────┴───────────────┘\n</pre>\n"
          },
          "metadata": {}
        },
        {
          "output_type": "display_data",
          "data": {
            "text/plain": "\u001b[1m Total params: \u001b[0m\u001b[38;5;34m118,548\u001b[0m (463.08 KB)\n",
            "text/html": "<pre style=\"white-space:pre;overflow-x:auto;line-height:normal;font-family:Menlo,'DejaVu Sans Mono',consolas,'Courier New',monospace\"><span style=\"font-weight: bold\"> Total params: </span><span style=\"color: #00af00; text-decoration-color: #00af00\">118,548</span> (463.08 KB)\n</pre>\n"
          },
          "metadata": {}
        },
        {
          "output_type": "display_data",
          "data": {
            "text/plain": "\u001b[1m Trainable params: \u001b[0m\u001b[38;5;34m118,164\u001b[0m (461.58 KB)\n",
            "text/html": "<pre style=\"white-space:pre;overflow-x:auto;line-height:normal;font-family:Menlo,'DejaVu Sans Mono',consolas,'Courier New',monospace\"><span style=\"font-weight: bold\"> Trainable params: </span><span style=\"color: #00af00; text-decoration-color: #00af00\">118,164</span> (461.58 KB)\n</pre>\n"
          },
          "metadata": {}
        },
        {
          "output_type": "display_data",
          "data": {
            "text/plain": "\u001b[1m Non-trainable params: \u001b[0m\u001b[38;5;34m384\u001b[0m (1.50 KB)\n",
            "text/html": "<pre style=\"white-space:pre;overflow-x:auto;line-height:normal;font-family:Menlo,'DejaVu Sans Mono',consolas,'Courier New',monospace\"><span style=\"font-weight: bold\"> Non-trainable params: </span><span style=\"color: #00af00; text-decoration-color: #00af00\">384</span> (1.50 KB)\n</pre>\n"
          },
          "metadata": {}
        }
      ]
    },
    {
      "cell_type": "code",
      "source": [
        "from tensorflow.keras.callbacks import ReduceLROnPlateau, EarlyStopping"
      ],
      "metadata": {
        "execution": {
          "iopub.status.busy": "2024-08-10T16:24:04.492389Z",
          "iopub.execute_input": "2024-08-10T16:24:04.492805Z",
          "iopub.status.idle": "2024-08-10T16:24:04.500597Z",
          "shell.execute_reply.started": "2024-08-10T16:24:04.492766Z",
          "shell.execute_reply": "2024-08-10T16:24:04.499358Z"
        },
        "trusted": true,
        "id": "1Ye-ilKjvQg1"
      },
      "execution_count": null,
      "outputs": []
    },
    {
      "cell_type": "code",
      "source": [
        "LR = 1e-3\n",
        "callbacks = [\n",
        "    ReduceLROnPlateau(monitor='val_loss', factor=0.1, patience=5, min_lr=1e-7, verbose=1),\n",
        "    EarlyStopping(monitor='val_loss', patience=10, restore_best_weights=False)\n",
        "]\n",
        "model.compile(loss=\"sparse_categorical_crossentropy\",optimizer=optimizers.Adam(LR),metrics=['accuracy'])"
      ],
      "metadata": {
        "execution": {
          "iopub.status.busy": "2024-08-10T16:24:04.50271Z",
          "iopub.execute_input": "2024-08-10T16:24:04.503386Z",
          "iopub.status.idle": "2024-08-10T16:24:04.523503Z",
          "shell.execute_reply.started": "2024-08-10T16:24:04.503342Z",
          "shell.execute_reply": "2024-08-10T16:24:04.522303Z"
        },
        "trusted": true,
        "id": "cEMdl5NAvQg1"
      },
      "execution_count": null,
      "outputs": []
    },
    {
      "cell_type": "code",
      "source": [
        "model_history = model.fit(train_dataset,callbacks=callbacks,epochs=epochs,validation_data=valid_dataset,batch_size=batch_size)"
      ],
      "metadata": {
        "execution": {
          "iopub.status.busy": "2024-08-10T16:24:04.525092Z",
          "iopub.execute_input": "2024-08-10T16:24:04.52557Z",
          "iopub.status.idle": "2024-08-10T19:00:22.215146Z",
          "shell.execute_reply.started": "2024-08-10T16:24:04.525526Z",
          "shell.execute_reply": "2024-08-10T19:00:22.213039Z"
        },
        "trusted": true,
        "id": "rbq0Ky5xvQg1",
        "outputId": "07d6d499-4a70-44ae-dae5-4e8b889e499d"
      },
      "execution_count": null,
      "outputs": [
        {
          "name": "stdout",
          "text": "Epoch 1/30\n\u001b[1m450/450\u001b[0m \u001b[32m━━━━━━━━━━━━━━━━━━━━\u001b[0m\u001b[37m\u001b[0m \u001b[1m312s\u001b[0m 682ms/step - accuracy: 0.1155 - loss: 2.7220 - val_accuracy: 0.1592 - val_loss: 3.1747 - learning_rate: 0.0010\nEpoch 2/30\n\u001b[1m450/450\u001b[0m \u001b[32m━━━━━━━━━━━━━━━━━━━━\u001b[0m\u001b[37m\u001b[0m \u001b[1m305s\u001b[0m 678ms/step - accuracy: 0.2361 - loss: 2.0848 - val_accuracy: 0.3058 - val_loss: 2.1918 - learning_rate: 0.0010\nEpoch 3/30\n\u001b[1m450/450\u001b[0m \u001b[32m━━━━━━━━━━━━━━━━━━━━\u001b[0m\u001b[37m\u001b[0m \u001b[1m310s\u001b[0m 687ms/step - accuracy: 0.5380 - loss: 1.3019 - val_accuracy: 0.5722 - val_loss: 1.4246 - learning_rate: 0.0010\nEpoch 4/30\n\u001b[1m450/450\u001b[0m \u001b[32m━━━━━━━━━━━━━━━━━━━━\u001b[0m\u001b[37m\u001b[0m \u001b[1m318s\u001b[0m 706ms/step - accuracy: 0.7951 - loss: 0.5997 - val_accuracy: 0.5639 - val_loss: 1.5605 - learning_rate: 0.0010\nEpoch 5/30\n\u001b[1m450/450\u001b[0m \u001b[32m━━━━━━━━━━━━━━━━━━━━\u001b[0m\u001b[37m\u001b[0m \u001b[1m324s\u001b[0m 719ms/step - accuracy: 0.8872 - loss: 0.3430 - val_accuracy: 0.7353 - val_loss: 0.8451 - learning_rate: 0.0010\nEpoch 6/30\n\u001b[1m450/450\u001b[0m \u001b[32m━━━━━━━━━━━━━━━━━━━━\u001b[0m\u001b[37m\u001b[0m \u001b[1m310s\u001b[0m 689ms/step - accuracy: 0.9086 - loss: 0.2614 - val_accuracy: 0.7689 - val_loss: 0.8482 - learning_rate: 0.0010\nEpoch 7/30\n\u001b[1m450/450\u001b[0m \u001b[32m━━━━━━━━━━━━━━━━━━━━\u001b[0m\u001b[37m\u001b[0m \u001b[1m305s\u001b[0m 677ms/step - accuracy: 0.9444 - loss: 0.1806 - val_accuracy: 0.4597 - val_loss: 2.5396 - learning_rate: 0.0010\nEpoch 8/30\n\u001b[1m450/450\u001b[0m \u001b[32m━━━━━━━━━━━━━━━━━━━━\u001b[0m\u001b[37m\u001b[0m \u001b[1m326s\u001b[0m 686ms/step - accuracy: 0.9548 - loss: 0.1525 - val_accuracy: 0.4839 - val_loss: 2.9706 - learning_rate: 0.0010\nEpoch 9/30\n\u001b[1m450/450\u001b[0m \u001b[32m━━━━━━━━━━━━━━━━━━━━\u001b[0m\u001b[37m\u001b[0m \u001b[1m314s\u001b[0m 698ms/step - accuracy: 0.9594 - loss: 0.1364 - val_accuracy: 0.7756 - val_loss: 0.7108 - learning_rate: 0.0010\nEpoch 10/30\n\u001b[1m450/450\u001b[0m \u001b[32m━━━━━━━━━━━━━━━━━━━━\u001b[0m\u001b[37m\u001b[0m \u001b[1m314s\u001b[0m 680ms/step - accuracy: 0.9641 - loss: 0.1177 - val_accuracy: 0.7556 - val_loss: 0.9626 - learning_rate: 0.0010\nEpoch 11/30\n\u001b[1m450/450\u001b[0m \u001b[32m━━━━━━━━━━━━━━━━━━━━\u001b[0m\u001b[37m\u001b[0m \u001b[1m306s\u001b[0m 679ms/step - accuracy: 0.9687 - loss: 0.1044 - val_accuracy: 0.6567 - val_loss: 1.6300 - learning_rate: 0.0010\nEpoch 12/30\n\u001b[1m450/450\u001b[0m \u001b[32m━━━━━━━━━━━━━━━━━━━━\u001b[0m\u001b[37m\u001b[0m \u001b[1m318s\u001b[0m 705ms/step - accuracy: 0.9684 - loss: 0.0997 - val_accuracy: 0.9011 - val_loss: 0.3465 - learning_rate: 0.0010\nEpoch 13/30\n\u001b[1m450/450\u001b[0m \u001b[32m━━━━━━━━━━━━━━━━━━━━\u001b[0m\u001b[37m\u001b[0m \u001b[1m307s\u001b[0m 681ms/step - accuracy: 0.9822 - loss: 0.0692 - val_accuracy: 0.9108 - val_loss: 0.3200 - learning_rate: 0.0010\nEpoch 14/30\n\u001b[1m450/450\u001b[0m \u001b[32m━━━━━━━━━━━━━━━━━━━━\u001b[0m\u001b[37m\u001b[0m \u001b[1m320s\u001b[0m 675ms/step - accuracy: 0.9882 - loss: 0.0475 - val_accuracy: 0.9311 - val_loss: 0.2209 - learning_rate: 0.0010\nEpoch 15/30\n\u001b[1m450/450\u001b[0m \u001b[32m━━━━━━━━━━━━━━━━━━━━\u001b[0m\u001b[37m\u001b[0m \u001b[1m322s\u001b[0m 674ms/step - accuracy: 0.9867 - loss: 0.0483 - val_accuracy: 0.8558 - val_loss: 0.5657 - learning_rate: 0.0010\nEpoch 16/30\n\u001b[1m450/450\u001b[0m \u001b[32m━━━━━━━━━━━━━━━━━━━━\u001b[0m\u001b[37m\u001b[0m \u001b[1m306s\u001b[0m 680ms/step - accuracy: 0.9805 - loss: 0.0693 - val_accuracy: 0.9214 - val_loss: 0.2968 - learning_rate: 0.0010\nEpoch 17/30\n\u001b[1m450/450\u001b[0m \u001b[32m━━━━━━━━━━━━━━━━━━━━\u001b[0m\u001b[37m\u001b[0m \u001b[1m305s\u001b[0m 676ms/step - accuracy: 0.9933 - loss: 0.0279 - val_accuracy: 0.9425 - val_loss: 0.2550 - learning_rate: 0.0010\nEpoch 18/30\n\u001b[1m450/450\u001b[0m \u001b[32m━━━━━━━━━━━━━━━━━━━━\u001b[0m\u001b[37m\u001b[0m \u001b[1m305s\u001b[0m 677ms/step - accuracy: 0.9932 - loss: 0.0271 - val_accuracy: 0.9294 - val_loss: 0.2500 - learning_rate: 0.0010\nEpoch 19/30\n\u001b[1m450/450\u001b[0m \u001b[32m━━━━━━━━━━━━━━━━━━━━\u001b[0m\u001b[37m\u001b[0m \u001b[1m310s\u001b[0m 688ms/step - accuracy: 0.9975 - loss: 0.0111 - val_accuracy: 0.9775 - val_loss: 0.0883 - learning_rate: 1.0000e-04\nEpoch 21/30\n\u001b[1m450/450\u001b[0m \u001b[32m━━━━━━━━━━━━━━━━━━━━\u001b[0m\u001b[37m\u001b[0m \u001b[1m328s\u001b[0m 703ms/step - accuracy: 0.9985 - loss: 0.0061 - val_accuracy: 0.9786 - val_loss: 0.0850 - learning_rate: 1.0000e-04\nEpoch 22/30\n\u001b[1m450/450\u001b[0m \u001b[32m━━━━━━━━━━━━━━━━━━━━\u001b[0m\u001b[37m\u001b[0m \u001b[1m314s\u001b[0m 696ms/step - accuracy: 0.9991 - loss: 0.0050 - val_accuracy: 0.9794 - val_loss: 0.0837 - learning_rate: 1.0000e-04\nEpoch 23/30\n\u001b[1m450/450\u001b[0m \u001b[32m━━━━━━━━━━━━━━━━━━━━\u001b[0m\u001b[37m\u001b[0m \u001b[1m305s\u001b[0m 676ms/step - accuracy: 0.9993 - loss: 0.0044 - val_accuracy: 0.9803 - val_loss: 0.0830 - learning_rate: 1.0000e-04\nEpoch 24/30\n\u001b[1m450/450\u001b[0m \u001b[32m━━━━━━━━━━━━━━━━━━━━\u001b[0m\u001b[37m\u001b[0m \u001b[1m305s\u001b[0m 678ms/step - accuracy: 0.9992 - loss: 0.0039 - val_accuracy: 0.9803 - val_loss: 0.0890 - learning_rate: 1.0000e-04\nEpoch 25/30\n\u001b[1m450/450\u001b[0m \u001b[32m━━━━━━━━━━━━━━━━━━━━\u001b[0m\u001b[37m\u001b[0m \u001b[1m322s\u001b[0m 677ms/step - accuracy: 0.9995 - loss: 0.0035 - val_accuracy: 0.9794 - val_loss: 0.0828 - learning_rate: 1.0000e-04\nEpoch 26/30\n\u001b[1m450/450\u001b[0m \u001b[32m━━━━━━━━━━━━━━━━━━━━\u001b[0m\u001b[37m\u001b[0m \u001b[1m303s\u001b[0m 673ms/step - accuracy: 0.9996 - loss: 0.0031 - val_accuracy: 0.9739 - val_loss: 0.1067 - learning_rate: 1.0000e-04\nEpoch 27/30\n\u001b[1m450/450\u001b[0m \u001b[32m━━━━━━━━━━━━━━━━━━━━\u001b[0m\u001b[37m\u001b[0m \u001b[1m313s\u001b[0m 694ms/step - accuracy: 0.9995 - loss: 0.0030 - val_accuracy: 0.9778 - val_loss: 0.0950 - learning_rate: 1.0000e-04\nEpoch 28/30\n\u001b[1m450/450\u001b[0m \u001b[32m━━━━━━━━━━━━━━━━━━━━\u001b[0m\u001b[37m\u001b[0m \u001b[1m332s\u001b[0m 716ms/step - accuracy: 0.9998 - loss: 0.0025 - val_accuracy: 0.9819 - val_loss: 0.0800 - learning_rate: 1.0000e-04\nEpoch 29/30\n\u001b[1m450/450\u001b[0m \u001b[32m━━━━━━━━━━━━━━━━━━━━\u001b[0m\u001b[37m\u001b[0m \u001b[1m306s\u001b[0m 680ms/step - accuracy: 0.9999 - loss: 0.0021 - val_accuracy: 0.9817 - val_loss: 0.0750 - learning_rate: 1.0000e-04\nEpoch 30/30\n\u001b[1m450/450\u001b[0m \u001b[32m━━━━━━━━━━━━━━━━━━━━\u001b[0m\u001b[37m\u001b[0m \u001b[1m310s\u001b[0m 688ms/step - accuracy: 0.9998 - loss: 0.0024 - val_accuracy: 0.9714 - val_loss: 0.1178 - learning_rate: 1.0000e-04\n",
          "output_type": "stream"
        }
      ]
    },
    {
      "cell_type": "code",
      "source": [
        "import matplotlib.pyplot as plt\n",
        "loss = model_history.history['loss']\n",
        "val_loss = model_history.history['val_loss']\n",
        "plt.figure(figsize=(10,10))\n",
        "plt.plot(loss,color='r',label='train_loss')\n",
        "plt.plot(val_loss,color='b',label=\"val_loss\")\n",
        "plt.ylabel(\"loss\")\n",
        "plt.xlabel(\"epochs\")\n",
        "plt.legend()\n",
        "plt.show()\n"
      ],
      "metadata": {
        "execution": {
          "iopub.status.busy": "2024-08-10T19:00:22.217097Z",
          "iopub.execute_input": "2024-08-10T19:00:22.217487Z",
          "iopub.status.idle": "2024-08-10T19:00:22.599687Z",
          "shell.execute_reply.started": "2024-08-10T19:00:22.217453Z",
          "shell.execute_reply": "2024-08-10T19:00:22.598399Z"
        },
        "trusted": true,
        "id": "--_yqx7fvQg1",
        "outputId": "70fa0a06-67ee-4ce0-e0ac-6003ec8b8cf5"
      },
      "execution_count": null,
      "outputs": [
        {
          "output_type": "display_data",
          "data": {
            "text/plain": "<Figure size 1000x1000 with 1 Axes>",
            "image/png": "[encoded data removed]"
          },
          "metadata": {}
        }
      ]
    },
    {
      "cell_type": "code",
      "source": [
        "result = model.evaluate(test_dataset)\n",
        "print(f\"Loss:{result[0]}\")\n",
        "print(f\"Accuarcy:{result[1] * 100}%\")"
      ],
      "metadata": {
        "execution": {
          "iopub.status.busy": "2024-08-10T19:00:22.601066Z",
          "iopub.execute_input": "2024-08-10T19:00:22.60145Z",
          "iopub.status.idle": "2024-08-10T19:01:16.325266Z",
          "shell.execute_reply.started": "2024-08-10T19:00:22.601419Z",
          "shell.execute_reply": "2024-08-10T19:01:16.324074Z"
        },
        "trusted": true,
        "id": "A4VdY0xuvQg1",
        "outputId": "973e8af3-227e-4c30-ab70-3de82d67f991"
      },
      "execution_count": null,
      "outputs": [
        {
          "name": "stdout",
          "text": "\u001b[1m188/188\u001b[0m \u001b[32m━━━━━━━━━━━━━━━━━━━━\u001b[0m\u001b[37m\u001b[0m \u001b[1m54s\u001b[0m 284ms/step - accuracy: 0.9560 - loss: 0.1893\nLoss:0.18274790048599243\nAccuarcy:95.48333287239075%\n",
          "output_type": "stream"
        }
      ]
    }
  ]
}