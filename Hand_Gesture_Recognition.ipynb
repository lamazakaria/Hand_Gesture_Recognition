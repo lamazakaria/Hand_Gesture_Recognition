{
  "metadata": {
    "kernelspec": {
      "language": "python",
      "display_name": "Python 3",
      "name": "python3"
    },
    "language_info": {
      "name": "python",
      "version": "3.10.13",
      "mimetype": "text/x-python",
      "codemirror_mode": {
        "name": "ipython",
        "version": 3
      },
      "pygments_lexer": "ipython3",
      "nbconvert_exporter": "python",
      "file_extension": ".py"
    },
    "kaggle": {
      "accelerator": "none",
      "dataSources": [
        {
          "sourceId": 2586549,
          "sourceType": "datasetVersion",
          "datasetId": 1571228
        }
      ],
      "dockerImageVersionId": 30746,
      "isInternetEnabled": true,
      "language": "python",
      "sourceType": "notebook",
      "isGpuEnabled": false
    },
    "colab": {
      "name": "Hand Gesture Recognition",
      "provenance": [],
      "include_colab_link": true
    }
  },
  "nbformat_minor": 0,
  "nbformat": 4,
  "cells": [
    {
      "cell_type": "markdown",
      "metadata": {
        "id": "view-in-github",
        "colab_type": "text"
      },
      "source": [
        "<a href=\"https://colab.research.google.com/github/lamazakaria/Hand_Gesture_Recognition/blob/main/Hand_Gesture_Recognition.ipynb\" target=\"_parent\"><img src=\"https://colab.research.google.com/assets/colab-badge.svg\" alt=\"Open In Colab\"/></a>"
      ]
    },
    {
      "source": [
        "\n",
        "# IMPORTANT: RUN THIS CELL IN ORDER TO IMPORT YOUR KAGGLE DATA SOURCES\n",
        "# TO THE CORRECT LOCATION (/kaggle/input) IN YOUR NOTEBOOK,\n",
        "# THEN FEEL FREE TO DELETE THIS CELL.\n",
        "# NOTE: THIS NOTEBOOK ENVIRONMENT DIFFERS FROM KAGGLE'S PYTHON\n",
        "# ENVIRONMENT SO THERE MAY BE MISSING LIBRARIES USED BY YOUR\n",
        "# NOTEBOOK.\n",
        "\n",
        "import os\n",
        "import sys\n",
        "from tempfile import NamedTemporaryFile\n",
        "from urllib.request import urlopen\n",
        "from urllib.parse import unquote, urlparse\n",
        "from urllib.error import HTTPError\n",
        "from zipfile import ZipFile\n",
        "import tarfile\n",
        "import shutil\n",
        "\n",
        "CHUNK_SIZE = 40960\n",
        "DATA_SOURCE_MAPPING = 'hand-gesture-recognition-dataset:https%3A%2F%2Fstorage.googleapis.com%2Fkaggle-data-sets%2F1571228%2F2586549%2Fbundle%2Farchive.zip%3FX-Goog-Algorithm%3DGOOG4-RSA-SHA256%26X-Goog-Credential%3Dgcp-kaggle-com%2540kaggle-161607.iam.gserviceaccount.com%252F20240809%252Fauto%252Fstorage%252Fgoog4_request%26X-Goog-Date%3D20240809T201727Z%26X-Goog-Expires%3D259200%26X-Goog-SignedHeaders%3Dhost%26X-Goog-Signature%3D3613a463f1610c70bdd171094b1e4efb528c110c4b0fc3c77beccecbca0efa1e50b23090f6f4ddd5a6e8247e0549b1a8b32d6ee85f330b72de8ffa8ef6efcd2bb2668f35789479babe9a5f68e2554a6c52f2c74eb90879431b899459eeb6524df584c65a1362c2a023e31da79d33eb327022ecefd66190915eca6b7a5cffa130677f4c1a328922cd0c777ccbae1697793360ff1d22997aa7bf6fe2c48709e74a0c536d480b4ae1f24c4f56a332a047af0f5c501d7dd25c7eac26b749848763d9a516db2c486cca541df99ee7d8d9fa7b07f6b3c1c57593c132e7d028c3d1f8e12b85c10ea90a70344030bce2cea881e72a9c8db6c36d9960eb2326f1fc86b28d'\n",
        "\n",
        "KAGGLE_INPUT_PATH='/kaggle/input'\n",
        "KAGGLE_WORKING_PATH='/kaggle/working'\n",
        "KAGGLE_SYMLINK='kaggle'\n",
        "\n",
        "!umount /kaggle/input/ 2> /dev/null\n",
        "shutil.rmtree('/kaggle/input', ignore_errors=True)\n",
        "os.makedirs(KAGGLE_INPUT_PATH, 0o777, exist_ok=True)\n",
        "os.makedirs(KAGGLE_WORKING_PATH, 0o777, exist_ok=True)\n",
        "\n",
        "try:\n",
        "  os.symlink(KAGGLE_INPUT_PATH, os.path.join(\"..\", 'input'), target_is_directory=True)\n",
        "except FileExistsError:\n",
        "  pass\n",
        "try:\n",
        "  os.symlink(KAGGLE_WORKING_PATH, os.path.join(\"..\", 'working'), target_is_directory=True)\n",
        "except FileExistsError:\n",
        "  pass\n",
        "\n",
        "for data_source_mapping in DATA_SOURCE_MAPPING.split(','):\n",
        "    directory, download_url_encoded = data_source_mapping.split(':')\n",
        "    download_url = unquote(download_url_encoded)\n",
        "    filename = urlparse(download_url).path\n",
        "    destination_path = os.path.join(KAGGLE_INPUT_PATH, directory)\n",
        "    try:\n",
        "        with urlopen(download_url) as fileres, NamedTemporaryFile() as tfile:\n",
        "            total_length = fileres.headers['content-length']\n",
        "            print(f'Downloading {directory}, {total_length} bytes compressed')\n",
        "            dl = 0\n",
        "            data = fileres.read(CHUNK_SIZE)\n",
        "            while len(data) > 0:\n",
        "                dl += len(data)\n",
        "                tfile.write(data)\n",
        "                done = int(50 * dl / int(total_length))\n",
        "                sys.stdout.write(f\"\\r[{'=' * done}{' ' * (50-done)}] {dl} bytes downloaded\")\n",
        "                sys.stdout.flush()\n",
        "                data = fileres.read(CHUNK_SIZE)\n",
        "            if filename.endswith('.zip'):\n",
        "              with ZipFile(tfile) as zfile:\n",
        "                zfile.extractall(destination_path)\n",
        "            else:\n",
        "              with tarfile.open(tfile.name) as tarfile:\n",
        "                tarfile.extractall(destination_path)\n",
        "            print(f'\\nDownloaded and uncompressed: {directory}')\n",
        "    except HTTPError as e:\n",
        "        print(f'Failed to load (likely expired) {download_url} to path {destination_path}')\n",
        "        continue\n",
        "    except OSError as e:\n",
        "        print(f'Failed to load {download_url} to path {destination_path}')\n",
        "        continue\n",
        "\n",
        "print('Data source import complete.')\n"
      ],
      "metadata": {
        "id": "bktiblG9yVjJ"
      },
      "cell_type": "code",
      "outputs": [],
      "execution_count": null
    },
    {
      "cell_type": "code",
      "source": [
        "import glob\n",
        "import os\n",
        "import cv2\n",
        "import random\n",
        "import tensorflow as tf\n",
        "import numpy as np\n",
        "from tensorflow.data import Dataset\n",
        "from tensorflow.keras import Input, Model,activations,callbacks,optimizers\n",
        "from tensorflow.keras.layers import Dense, LSTM, Flatten ,Activation , Dropout, BatchNormalization, SimpleRNN"
      ],
      "metadata": {
        "execution": {
          "iopub.status.busy": "2024-08-09T16:58:19.219432Z",
          "iopub.execute_input": "2024-08-09T16:58:19.21983Z",
          "iopub.status.idle": "2024-08-09T16:58:22.995507Z",
          "shell.execute_reply.started": "2024-08-09T16:58:19.21979Z",
          "shell.execute_reply": "2024-08-09T16:58:22.994504Z"
        },
        "trusted": true,
        "id": "gCtzbRhVyVjM",
        "outputId": "a2b7b623-743d-4a76-ed3d-5e782041bd17"
      },
      "execution_count": null,
      "outputs": [
        {
          "name": "stderr",
          "text": "2024-08-09 16:58:19.625995: E external/local_xla/xla/stream_executor/cuda/cuda_dnn.cc:9261] Unable to register cuDNN factory: Attempting to register factory for plugin cuDNN when one has already been registered\n2024-08-09 16:58:19.626054: E external/local_xla/xla/stream_executor/cuda/cuda_fft.cc:607] Unable to register cuFFT factory: Attempting to register factory for plugin cuFFT when one has already been registered\n2024-08-09 16:58:19.627686: E external/local_xla/xla/stream_executor/cuda/cuda_blas.cc:1515] Unable to register cuBLAS factory: Attempting to register factory for plugin cuBLAS when one has already been registered\n",
          "output_type": "stream"
        }
      ]
    },
    {
      "cell_type": "code",
      "source": [
        "x_train = glob.glob('/kaggle/input/hand-gesture-recognition-dataset/train/train/*/*')\n",
        "x_test = glob.glob('/kaggle/input/hand-gesture-recognition-dataset/test/test/*/*')\n",
        "print(f\"length test:{len(x_test)}\")\n",
        "print(f\"length train:{len(x_train)}\")\n"
      ],
      "metadata": {
        "execution": {
          "iopub.status.busy": "2024-08-09T16:58:22.997557Z",
          "iopub.execute_input": "2024-08-09T16:58:22.998308Z",
          "iopub.status.idle": "2024-08-09T16:58:23.088965Z",
          "shell.execute_reply.started": "2024-08-09T16:58:22.998267Z",
          "shell.execute_reply": "2024-08-09T16:58:23.087822Z"
        },
        "trusted": true,
        "id": "QkJMv5-dyVjN",
        "outputId": "6dba49b9-25b8-46db-d0ea-dc66a26b1d88"
      },
      "execution_count": null,
      "outputs": [
        {
          "name": "stdout",
          "text": "length test:6000\nlength train:18000\n",
          "output_type": "stream"
        }
      ]
    },
    {
      "cell_type": "code",
      "source": [
        "validation_split = 0.2\n",
        "validation_length = int(validation_split*len(x_train))\n",
        "indices = np.random.choice(len(x_train), validation_length,replace=False)\n",
        "print(validation_length)\n",
        "x_valid = [x_train[idx] for idx in indices]\n",
        "x_train = [x_train[idx] for idx in range(len(x_train)) if idx not in indices]\n"
      ],
      "metadata": {
        "execution": {
          "iopub.status.busy": "2024-08-09T16:58:23.090009Z",
          "iopub.execute_input": "2024-08-09T16:58:23.090315Z",
          "iopub.status.idle": "2024-08-09T16:58:23.203577Z",
          "shell.execute_reply.started": "2024-08-09T16:58:23.090289Z",
          "shell.execute_reply": "2024-08-09T16:58:23.202513Z"
        },
        "trusted": true,
        "id": "R6FvnPCOyVjN",
        "outputId": "5f2b5a1c-41c2-401d-e047-49b176909c52"
      },
      "execution_count": null,
      "outputs": [
        {
          "name": "stdout",
          "text": "3600\n",
          "output_type": "stream"
        }
      ]
    },
    {
      "cell_type": "code",
      "source": [
        "print(len(x_valid),len(x_train))\n",
        "print(len(indices))"
      ],
      "metadata": {
        "execution": {
          "iopub.status.busy": "2024-08-09T16:58:23.205856Z",
          "iopub.execute_input": "2024-08-09T16:58:23.206184Z",
          "iopub.status.idle": "2024-08-09T16:58:23.211493Z",
          "shell.execute_reply.started": "2024-08-09T16:58:23.206154Z",
          "shell.execute_reply": "2024-08-09T16:58:23.210494Z"
        },
        "trusted": true,
        "id": "-_3kH-jZyVjO",
        "outputId": "6869a149-a87c-40c5-bf59-8cb3642ed2b6"
      },
      "execution_count": null,
      "outputs": [
        {
          "name": "stdout",
          "text": "3600 14400\n3600\n",
          "output_type": "stream"
        }
      ]
    },
    {
      "cell_type": "code",
      "source": [
        "\n",
        "random.Random(42)\n",
        "random.shuffle(x_train)\n",
        "random.shuffle(x_test)\n",
        "random.shuffle(x_valid)"
      ],
      "metadata": {
        "execution": {
          "iopub.status.busy": "2024-08-09T16:58:23.212808Z",
          "iopub.execute_input": "2024-08-09T16:58:23.213197Z",
          "iopub.status.idle": "2024-08-09T16:58:23.236732Z",
          "shell.execute_reply.started": "2024-08-09T16:58:23.213153Z",
          "shell.execute_reply": "2024-08-09T16:58:23.235816Z"
        },
        "trusted": true,
        "id": "imyTbFUhyVjO"
      },
      "execution_count": null,
      "outputs": []
    },
    {
      "cell_type": "code",
      "source": [
        "print(x_train[0],x_test[0])"
      ],
      "metadata": {
        "execution": {
          "iopub.status.busy": "2024-08-09T16:58:23.237976Z",
          "iopub.execute_input": "2024-08-09T16:58:23.23831Z",
          "iopub.status.idle": "2024-08-09T16:58:23.247437Z",
          "shell.execute_reply.started": "2024-08-09T16:58:23.238282Z",
          "shell.execute_reply": "2024-08-09T16:58:23.246458Z"
        },
        "trusted": true,
        "id": "GWJeS5_dyVjO",
        "outputId": "be0884c9-24fa-4eb9-c96f-d7f3bec884c8"
      },
      "execution_count": null,
      "outputs": [
        {
          "name": "stdout",
          "text": "/kaggle/input/hand-gesture-recognition-dataset/train/train/9/652.jpg /kaggle/input/hand-gesture-recognition-dataset/test/test/1/984.jpg\n",
          "output_type": "stream"
        }
      ]
    },
    {
      "cell_type": "code",
      "source": [
        "batch_size=32\n",
        "epochs = 40\n",
        "\n"
      ],
      "metadata": {
        "execution": {
          "iopub.status.busy": "2024-08-09T16:58:23.248589Z",
          "iopub.execute_input": "2024-08-09T16:58:23.24894Z",
          "iopub.status.idle": "2024-08-09T16:58:23.258574Z",
          "shell.execute_reply.started": "2024-08-09T16:58:23.248907Z",
          "shell.execute_reply": "2024-08-09T16:58:23.257642Z"
        },
        "trusted": true,
        "id": "flnLqoecyVjP"
      },
      "execution_count": null,
      "outputs": []
    },
    {
      "cell_type": "code",
      "source": [],
      "metadata": {
        "id": "0CT0ynQmyVjP"
      },
      "execution_count": null,
      "outputs": []
    },
    {
      "cell_type": "code",
      "source": [
        "def extract_label(path):\n",
        "    path = path.decode()\n",
        "    components = path.split('/')\n",
        "    label = components[-2]\n",
        "    label = tf.strings.to_number(label, out_type=tf.int32)\n",
        "    return tf.cast(label,tf.uint8)\n",
        "\n",
        "\n",
        ""
      ],
      "metadata": {
        "execution": {
          "iopub.status.busy": "2024-08-09T16:58:23.25999Z",
          "iopub.execute_input": "2024-08-09T16:58:23.260423Z",
          "iopub.status.idle": "2024-08-09T16:58:23.268435Z",
          "shell.execute_reply.started": "2024-08-09T16:58:23.260381Z",
          "shell.execute_reply": "2024-08-09T16:58:23.26754Z"
        },
        "trusted": true,
        "id": "qJo9V0SZyVjP"
      },
      "execution_count": null,
      "outputs": []
    },
    {
      "cell_type": "code",
      "source": [
        "def extract_contours(img_path):\n",
        "    img_path = img_path.decode()\n",
        "    img = cv2.imread(img_path)\n",
        "    if img is None:\n",
        "        raise ValueError(\"Image not found or unable to load.\")\n",
        "    img = cv2.resize(img,(100,100))\n",
        "    img = cv2.cvtColor(img,cv2.COLOR_BGR2GRAY)\n",
        "#     print(f\"image:{img.shape}\")\n",
        "    img_edges = cv2.Canny(img,100,180)\n",
        "\n",
        "    contours,_ = cv2.findContours(img_edges,cv2.RETR_TREE, cv2.CHAIN_APPROX_SIMPLE)\n",
        "#     concetaneted_contours = np.concatenate(contours,axis=0)\n",
        "#     concetaneted_contours =concetaneted_  contours.reshape(-1,2)\n",
        "    concetenated_contours = np.concatenate([contour.reshape(-1, 2) for contour in contours], axis=0)\n",
        "    concetenated_contours = concetenated_contours.astype(np.float32) / 255.0\n",
        "    return concetenated_contours\n",
        "\n",
        ""
      ],
      "metadata": {
        "execution": {
          "iopub.status.busy": "2024-08-09T16:58:23.269903Z",
          "iopub.execute_input": "2024-08-09T16:58:23.270745Z",
          "iopub.status.idle": "2024-08-09T16:58:23.280727Z",
          "shell.execute_reply.started": "2024-08-09T16:58:23.270697Z",
          "shell.execute_reply": "2024-08-09T16:58:23.279827Z"
        },
        "trusted": true,
        "id": "Rh8tXkZayVjQ"
      },
      "execution_count": null,
      "outputs": []
    },
    {
      "cell_type": "code",
      "source": [
        "def read_data(data):\n",
        "    label = tf.numpy_function(extract_label,[data],tf.uint8)\n",
        "    label = tf.reshape(label,())\n",
        "    features = tf.numpy_function(extract_contours,[data],tf.float32)\n",
        "    return features , label\n",
        ""
      ],
      "metadata": {
        "execution": {
          "iopub.status.busy": "2024-08-09T16:58:23.284279Z",
          "iopub.execute_input": "2024-08-09T16:58:23.284621Z",
          "iopub.status.idle": "2024-08-09T16:58:23.293184Z",
          "shell.execute_reply.started": "2024-08-09T16:58:23.284591Z",
          "shell.execute_reply": "2024-08-09T16:58:23.291831Z"
        },
        "trusted": true,
        "id": "ikErjn6PyVjQ"
      },
      "execution_count": null,
      "outputs": []
    },
    {
      "cell_type": "code",
      "source": [
        "def extract_max_features(features):\n",
        "    return  tf.shape(features)[0]\n",
        ""
      ],
      "metadata": {
        "execution": {
          "iopub.status.busy": "2024-08-09T16:58:23.294441Z",
          "iopub.execute_input": "2024-08-09T16:58:23.294796Z",
          "iopub.status.idle": "2024-08-09T16:58:23.303005Z",
          "shell.execute_reply.started": "2024-08-09T16:58:23.29475Z",
          "shell.execute_reply": "2024-08-09T16:58:23.302085Z"
        },
        "trusted": true,
        "id": "FMmxcEyAyVjQ"
      },
      "execution_count": null,
      "outputs": []
    },
    {
      "cell_type": "code",
      "source": [
        "def prepare_data(data):\n",
        "    paddedshape = ([None,2],[])\n",
        "    max_no_features = 0\n",
        "    dataset = Dataset.from_tensor_slices(data)\n",
        "    dataset = dataset.map(read_data)\n",
        "    for features, label in dataset:\n",
        "        max_no_features = tf.maximum(max_no_features,extract_max_features(features))\n",
        "\n",
        "    dataset = dataset.padded_batch(batch_size,paddedshape)\n",
        "    dataset = dataset.prefetch(10)\n",
        "    return dataset, max_no_features\n",
        ""
      ],
      "metadata": {
        "execution": {
          "iopub.status.busy": "2024-08-09T16:58:23.304433Z",
          "iopub.execute_input": "2024-08-09T16:58:23.305027Z",
          "iopub.status.idle": "2024-08-09T16:58:23.318518Z",
          "shell.execute_reply.started": "2024-08-09T16:58:23.304991Z",
          "shell.execute_reply": "2024-08-09T16:58:23.317485Z"
        },
        "trusted": true,
        "id": "Zjr8bp-GyVjQ"
      },
      "execution_count": null,
      "outputs": []
    },
    {
      "cell_type": "code",
      "source": [
        "train_dataset, max_no_features_train = prepare_data(x_train)\n",
        "test_dataset, max_no_features_test = prepare_data(x_test)\n",
        "valid_dataset, max_no_features_valid = prepare_data(x_valid)"
      ],
      "metadata": {
        "execution": {
          "iopub.status.busy": "2024-08-09T16:58:23.319812Z",
          "iopub.execute_input": "2024-08-09T16:58:23.320218Z",
          "iopub.status.idle": "2024-08-09T17:00:08.843106Z",
          "shell.execute_reply.started": "2024-08-09T16:58:23.320181Z",
          "shell.execute_reply": "2024-08-09T17:00:08.841867Z"
        },
        "trusted": true,
        "id": "2eaaUl1lyVjQ"
      },
      "execution_count": null,
      "outputs": []
    },
    {
      "cell_type": "code",
      "source": [
        "for feature, label in train_dataset.take(3):\n",
        "    print(\"Image shape:\", feature.shape)\n",
        "    print(\"Label:\", label.numpy())"
      ],
      "metadata": {
        "execution": {
          "iopub.status.busy": "2024-08-09T17:00:08.844829Z",
          "iopub.execute_input": "2024-08-09T17:00:08.845418Z",
          "iopub.status.idle": "2024-08-09T17:00:09.115309Z",
          "shell.execute_reply.started": "2024-08-09T17:00:08.845377Z",
          "shell.execute_reply": "2024-08-09T17:00:09.114316Z"
        },
        "trusted": true,
        "id": "3mOyzWbxyVjQ",
        "outputId": "920a7abc-a9b8-44cd-9e13-313492aacf8f"
      },
      "execution_count": null,
      "outputs": [
        {
          "name": "stdout",
          "text": "Image shape: (32, 474, 2)\nLabel: [ 9  5 18  1  9 12 14  0  6 12 10  5 10  5 13  1 10  0 15  7 14 13 12 11\n 13 12 10 10 15 11  8  1]\nImage shape: (32, 376, 2)\nLabel: [11  1 12  1  9  1  1  2  1  1 11 19 18  9 15  8 18  8 12  6 19 18 11 19\n  2 19 15  0 11 19 11  8]\nImage shape: (32, 428, 2)\nLabel: [ 8  4  8  4  0  7  8 18  9  9 12  4  4 16 15  3 18 13  7 13 16 19  6  7\n 11  3 14  4 19  6 16  3]\n",
          "output_type": "stream"
        }
      ]
    },
    {
      "cell_type": "code",
      "source": [
        "print(f\"max_no_features:{max_no_features_test,max_no_features_valid,max_no_features_train}\")"
      ],
      "metadata": {
        "execution": {
          "iopub.status.busy": "2024-08-09T17:00:09.116697Z",
          "iopub.execute_input": "2024-08-09T17:00:09.117051Z",
          "iopub.status.idle": "2024-08-09T17:00:09.122819Z",
          "shell.execute_reply.started": "2024-08-09T17:00:09.117019Z",
          "shell.execute_reply": "2024-08-09T17:00:09.121703Z"
        },
        "trusted": true,
        "id": "4pDCGK7SyVjQ",
        "outputId": "ab2e9879-8ff8-4344-d9bf-1bd2617153fe"
      },
      "execution_count": null,
      "outputs": [
        {
          "name": "stdout",
          "text": "max_no_features:(<tf.Tensor: shape=(), dtype=int32, numpy=544>, <tf.Tensor: shape=(), dtype=int32, numpy=525>, <tf.Tensor: shape=(), dtype=int32, numpy=530>)\n",
          "output_type": "stream"
        }
      ]
    },
    {
      "cell_type": "code",
      "source": [
        "inputs = Input(shape=(max_no_features_test.numpy(),2))\n",
        "lstm = LSTM(128,return_sequences =True)(inputs)\n",
        "x = BatchNormalization()(lstm)\n",
        "lstm_2  = LSTM(64)(x)\n",
        "x2 = BatchNormalization()(lstm_2)\n",
        "output = Dense(20,activation='softmax')(x2)\n",
        "model = Model(inputs,output)\n",
        "model.summary()"
      ],
      "metadata": {
        "execution": {
          "iopub.status.busy": "2024-08-09T17:00:09.124108Z",
          "iopub.execute_input": "2024-08-09T17:00:09.124442Z",
          "iopub.status.idle": "2024-08-09T17:00:09.256574Z",
          "shell.execute_reply.started": "2024-08-09T17:00:09.124412Z",
          "shell.execute_reply": "2024-08-09T17:00:09.255563Z"
        },
        "trusted": true,
        "id": "dF6EdoPEyVjQ",
        "outputId": "c1ed0201-768e-43dd-cb63-afc1c0ea28c6"
      },
      "execution_count": null,
      "outputs": [
        {
          "output_type": "display_data",
          "data": {
            "text/plain": "\u001b[1mModel: \"functional\"\u001b[0m\n",
            "text/html": "<pre style=\"white-space:pre;overflow-x:auto;line-height:normal;font-family:Menlo,'DejaVu Sans Mono',consolas,'Courier New',monospace\"><span style=\"font-weight: bold\">Model: \"functional\"</span>\n</pre>\n"
          },
          "metadata": {}
        },
        {
          "output_type": "display_data",
          "data": {
            "text/plain": "┏━━━━━━━━━━━━━━━━━━━━━━━━━━━━━━━━━┳━━━━━━━━━━━━━━━━━━━━━━━━┳━━━━━━━━━━━━━━━┓\n┃\u001b[1m \u001b[0m\u001b[1mLayer (type)                   \u001b[0m\u001b[1m \u001b[0m┃\u001b[1m \u001b[0m\u001b[1mOutput Shape          \u001b[0m\u001b[1m \u001b[0m┃\u001b[1m \u001b[0m\u001b[1m      Param #\u001b[0m\u001b[1m \u001b[0m┃\n┡━━━━━━━━━━━━━━━━━━━━━━━━━━━━━━━━━╇━━━━━━━━━━━━━━━━━━━━━━━━╇━━━━━━━━━━━━━━━┩\n│ input_layer (\u001b[38;5;33mInputLayer\u001b[0m)        │ (\u001b[38;5;45mNone\u001b[0m, \u001b[38;5;34m544\u001b[0m, \u001b[38;5;34m2\u001b[0m)         │             \u001b[38;5;34m0\u001b[0m │\n├─────────────────────────────────┼────────────────────────┼───────────────┤\n│ lstm (\u001b[38;5;33mLSTM\u001b[0m)                     │ (\u001b[38;5;45mNone\u001b[0m, \u001b[38;5;34m544\u001b[0m, \u001b[38;5;34m128\u001b[0m)       │        \u001b[38;5;34m67,072\u001b[0m │\n├─────────────────────────────────┼────────────────────────┼───────────────┤\n│ batch_normalization             │ (\u001b[38;5;45mNone\u001b[0m, \u001b[38;5;34m544\u001b[0m, \u001b[38;5;34m128\u001b[0m)       │           \u001b[38;5;34m512\u001b[0m │\n│ (\u001b[38;5;33mBatchNormalization\u001b[0m)            │                        │               │\n├─────────────────────────────────┼────────────────────────┼───────────────┤\n│ lstm_1 (\u001b[38;5;33mLSTM\u001b[0m)                   │ (\u001b[38;5;45mNone\u001b[0m, \u001b[38;5;34m64\u001b[0m)             │        \u001b[38;5;34m49,408\u001b[0m │\n├─────────────────────────────────┼────────────────────────┼───────────────┤\n│ batch_normalization_1           │ (\u001b[38;5;45mNone\u001b[0m, \u001b[38;5;34m64\u001b[0m)             │           \u001b[38;5;34m256\u001b[0m │\n│ (\u001b[38;5;33mBatchNormalization\u001b[0m)            │                        │               │\n├─────────────────────────────────┼────────────────────────┼───────────────┤\n│ dense (\u001b[38;5;33mDense\u001b[0m)                   │ (\u001b[38;5;45mNone\u001b[0m, \u001b[38;5;34m20\u001b[0m)             │         \u001b[38;5;34m1,300\u001b[0m │\n└─────────────────────────────────┴────────────────────────┴───────────────┘\n",
            "text/html": "<pre style=\"white-space:pre;overflow-x:auto;line-height:normal;font-family:Menlo,'DejaVu Sans Mono',consolas,'Courier New',monospace\">┏━━━━━━━━━━━━━━━━━━━━━━━━━━━━━━━━━┳━━━━━━━━━━━━━━━━━━━━━━━━┳━━━━━━━━━━━━━━━┓\n┃<span style=\"font-weight: bold\"> Layer (type)                    </span>┃<span style=\"font-weight: bold\"> Output Shape           </span>┃<span style=\"font-weight: bold\">       Param # </span>┃\n┡━━━━━━━━━━━━━━━━━━━━━━━━━━━━━━━━━╇━━━━━━━━━━━━━━━━━━━━━━━━╇━━━━━━━━━━━━━━━┩\n│ input_layer (<span style=\"color: #0087ff; text-decoration-color: #0087ff\">InputLayer</span>)        │ (<span style=\"color: #00d7ff; text-decoration-color: #00d7ff\">None</span>, <span style=\"color: #00af00; text-decoration-color: #00af00\">544</span>, <span style=\"color: #00af00; text-decoration-color: #00af00\">2</span>)         │             <span style=\"color: #00af00; text-decoration-color: #00af00\">0</span> │\n├─────────────────────────────────┼────────────────────────┼───────────────┤\n│ lstm (<span style=\"color: #0087ff; text-decoration-color: #0087ff\">LSTM</span>)                     │ (<span style=\"color: #00d7ff; text-decoration-color: #00d7ff\">None</span>, <span style=\"color: #00af00; text-decoration-color: #00af00\">544</span>, <span style=\"color: #00af00; text-decoration-color: #00af00\">128</span>)       │        <span style=\"color: #00af00; text-decoration-color: #00af00\">67,072</span> │\n├─────────────────────────────────┼────────────────────────┼───────────────┤\n│ batch_normalization             │ (<span style=\"color: #00d7ff; text-decoration-color: #00d7ff\">None</span>, <span style=\"color: #00af00; text-decoration-color: #00af00\">544</span>, <span style=\"color: #00af00; text-decoration-color: #00af00\">128</span>)       │           <span style=\"color: #00af00; text-decoration-color: #00af00\">512</span> │\n│ (<span style=\"color: #0087ff; text-decoration-color: #0087ff\">BatchNormalization</span>)            │                        │               │\n├─────────────────────────────────┼────────────────────────┼───────────────┤\n│ lstm_1 (<span style=\"color: #0087ff; text-decoration-color: #0087ff\">LSTM</span>)                   │ (<span style=\"color: #00d7ff; text-decoration-color: #00d7ff\">None</span>, <span style=\"color: #00af00; text-decoration-color: #00af00\">64</span>)             │        <span style=\"color: #00af00; text-decoration-color: #00af00\">49,408</span> │\n├─────────────────────────────────┼────────────────────────┼───────────────┤\n│ batch_normalization_1           │ (<span style=\"color: #00d7ff; text-decoration-color: #00d7ff\">None</span>, <span style=\"color: #00af00; text-decoration-color: #00af00\">64</span>)             │           <span style=\"color: #00af00; text-decoration-color: #00af00\">256</span> │\n│ (<span style=\"color: #0087ff; text-decoration-color: #0087ff\">BatchNormalization</span>)            │                        │               │\n├─────────────────────────────────┼────────────────────────┼───────────────┤\n│ dense (<span style=\"color: #0087ff; text-decoration-color: #0087ff\">Dense</span>)                   │ (<span style=\"color: #00d7ff; text-decoration-color: #00d7ff\">None</span>, <span style=\"color: #00af00; text-decoration-color: #00af00\">20</span>)             │         <span style=\"color: #00af00; text-decoration-color: #00af00\">1,300</span> │\n└─────────────────────────────────┴────────────────────────┴───────────────┘\n</pre>\n"
          },
          "metadata": {}
        },
        {
          "output_type": "display_data",
          "data": {
            "text/plain": "\u001b[1m Total params: \u001b[0m\u001b[38;5;34m118,548\u001b[0m (463.08 KB)\n",
            "text/html": "<pre style=\"white-space:pre;overflow-x:auto;line-height:normal;font-family:Menlo,'DejaVu Sans Mono',consolas,'Courier New',monospace\"><span style=\"font-weight: bold\"> Total params: </span><span style=\"color: #00af00; text-decoration-color: #00af00\">118,548</span> (463.08 KB)\n</pre>\n"
          },
          "metadata": {}
        },
        {
          "output_type": "display_data",
          "data": {
            "text/plain": "\u001b[1m Trainable params: \u001b[0m\u001b[38;5;34m118,164\u001b[0m (461.58 KB)\n",
            "text/html": "<pre style=\"white-space:pre;overflow-x:auto;line-height:normal;font-family:Menlo,'DejaVu Sans Mono',consolas,'Courier New',monospace\"><span style=\"font-weight: bold\"> Trainable params: </span><span style=\"color: #00af00; text-decoration-color: #00af00\">118,164</span> (461.58 KB)\n</pre>\n"
          },
          "metadata": {}
        },
        {
          "output_type": "display_data",
          "data": {
            "text/plain": "\u001b[1m Non-trainable params: \u001b[0m\u001b[38;5;34m384\u001b[0m (1.50 KB)\n",
            "text/html": "<pre style=\"white-space:pre;overflow-x:auto;line-height:normal;font-family:Menlo,'DejaVu Sans Mono',consolas,'Courier New',monospace\"><span style=\"font-weight: bold\"> Non-trainable params: </span><span style=\"color: #00af00; text-decoration-color: #00af00\">384</span> (1.50 KB)\n</pre>\n"
          },
          "metadata": {}
        }
      ]
    },
    {
      "cell_type": "code",
      "source": [
        "from tensorflow.keras.callbacks import ReduceLROnPlateau, EarlyStopping"
      ],
      "metadata": {
        "execution": {
          "iopub.status.busy": "2024-08-09T17:00:09.257617Z",
          "iopub.execute_input": "2024-08-09T17:00:09.257922Z",
          "iopub.status.idle": "2024-08-09T17:00:09.263934Z",
          "shell.execute_reply.started": "2024-08-09T17:00:09.257895Z",
          "shell.execute_reply": "2024-08-09T17:00:09.262761Z"
        },
        "trusted": true,
        "id": "UzjeFPZNyVjR"
      },
      "execution_count": null,
      "outputs": []
    },
    {
      "cell_type": "code",
      "source": [
        "LR = 1e-3\n",
        "callbacks = [\n",
        "    ReduceLROnPlateau(monitor='val_loss', factor=0.1, patience=5, min_lr=1e-7, verbose=1),\n",
        "    EarlyStopping(monitor='val_loss', patience=10, restore_best_weights=False)\n",
        "]\n",
        "model.compile(loss=\"sparse_categorical_crossentropy\",optimizer=optimizers.Adam(LR),metrics=['accuracy'])"
      ],
      "metadata": {
        "execution": {
          "iopub.status.busy": "2024-08-09T17:00:09.265231Z",
          "iopub.execute_input": "2024-08-09T17:00:09.265583Z",
          "iopub.status.idle": "2024-08-09T17:00:09.283129Z",
          "shell.execute_reply.started": "2024-08-09T17:00:09.265546Z",
          "shell.execute_reply": "2024-08-09T17:00:09.282305Z"
        },
        "trusted": true,
        "id": "nAVV9Y2KyVjR"
      },
      "execution_count": null,
      "outputs": []
    },
    {
      "cell_type": "code",
      "source": [
        "model_history = model.fit(train_dataset,callbacks=callbacks,epochs=epochs,validation_data=valid_dataset,batch_size=batch_size)"
      ],
      "metadata": {
        "execution": {
          "iopub.status.busy": "2024-08-09T17:00:09.284395Z",
          "iopub.execute_input": "2024-08-09T17:00:09.284712Z",
          "iopub.status.idle": "2024-08-09T19:48:47.362166Z",
          "shell.execute_reply.started": "2024-08-09T17:00:09.284684Z",
          "shell.execute_reply": "2024-08-09T19:48:47.361157Z"
        },
        "trusted": true,
        "id": "7J8APVN0yVjR",
        "outputId": "27bb47af-7444-45ed-a0cd-93114cb25863"
      },
      "execution_count": null,
      "outputs": [
        {
          "name": "stdout",
          "text": "Epoch 1/40\n\u001b[1m450/450\u001b[0m \u001b[32m━━━━━━━━━━━━━━━━━━━━\u001b[0m\u001b[37m\u001b[0m \u001b[1m257s\u001b[0m 562ms/step - accuracy: 0.1372 - loss: 2.6271 - val_accuracy: 0.1150 - val_loss: 2.7646 - learning_rate: 0.0010\nEpoch 2/40\n\u001b[1m450/450\u001b[0m \u001b[32m━━━━━━━━━━━━━━━━━━━━\u001b[0m\u001b[37m\u001b[0m \u001b[1m252s\u001b[0m 559ms/step - accuracy: 0.2132 - loss: 2.1698 - val_accuracy: 0.1711 - val_loss: 2.8865 - learning_rate: 0.0010\nEpoch 3/40\n\u001b[1m450/450\u001b[0m \u001b[32m━━━━━━━━━━━━━━━━━━━━\u001b[0m\u001b[37m\u001b[0m \u001b[1m252s\u001b[0m 561ms/step - accuracy: 0.2797 - loss: 1.9814 - val_accuracy: 0.2636 - val_loss: 2.6148 - learning_rate: 0.0010\nEpoch 4/40\n\u001b[1m450/450\u001b[0m \u001b[32m━━━━━━━━━━━━━━━━━━━━\u001b[0m\u001b[37m\u001b[0m \u001b[1m253s\u001b[0m 561ms/step - accuracy: 0.4251 - loss: 1.5279 - val_accuracy: 0.2983 - val_loss: 2.2191 - learning_rate: 0.0010\nEpoch 5/40\n\u001b[1m450/450\u001b[0m \u001b[32m━━━━━━━━━━━━━━━━━━━━\u001b[0m\u001b[37m\u001b[0m \u001b[1m254s\u001b[0m 565ms/step - accuracy: 0.5201 - loss: 1.2564 - val_accuracy: 0.3733 - val_loss: 1.9238 - learning_rate: 0.0010\nEpoch 6/40\n\u001b[1m450/450\u001b[0m \u001b[32m━━━━━━━━━━━━━━━━━━━━\u001b[0m\u001b[37m\u001b[0m \u001b[1m253s\u001b[0m 561ms/step - accuracy: 0.6358 - loss: 1.0063 - val_accuracy: 0.2722 - val_loss: 3.6688 - learning_rate: 0.0010\nEpoch 7/40\n\u001b[1m450/450\u001b[0m \u001b[32m━━━━━━━━━━━━━━━━━━━━\u001b[0m\u001b[37m\u001b[0m \u001b[1m259s\u001b[0m 553ms/step - accuracy: 0.7619 - loss: 0.7242 - val_accuracy: 0.7053 - val_loss: 1.0012 - learning_rate: 0.0010\nEpoch 8/40\n\u001b[1m450/450\u001b[0m \u001b[32m━━━━━━━━━━━━━━━━━━━━\u001b[0m\u001b[37m\u001b[0m \u001b[1m250s\u001b[0m 554ms/step - accuracy: 0.8648 - loss: 0.4358 - val_accuracy: 0.6994 - val_loss: 1.1727 - learning_rate: 0.0010\nEpoch 9/40\n\u001b[1m450/450\u001b[0m \u001b[32m━━━━━━━━━━━━━━━━━━━━\u001b[0m\u001b[37m\u001b[0m \u001b[1m264s\u001b[0m 558ms/step - accuracy: 0.8983 - loss: 0.3090 - val_accuracy: 0.8100 - val_loss: 0.6409 - learning_rate: 0.0010\nEpoch 10/40\n\u001b[1m450/450\u001b[0m \u001b[32m━━━━━━━━━━━━━━━━━━━━\u001b[0m\u001b[37m\u001b[0m \u001b[1m254s\u001b[0m 563ms/step - accuracy: 0.9123 - loss: 0.2666 - val_accuracy: 0.5217 - val_loss: 2.5379 - learning_rate: 0.0010\nEpoch 11/40\n\u001b[1m450/450\u001b[0m \u001b[32m━━━━━━━━━━━━━━━━━━━━\u001b[0m\u001b[37m\u001b[0m \u001b[1m252s\u001b[0m 559ms/step - accuracy: 0.8937 - loss: 0.3265 - val_accuracy: 0.8739 - val_loss: 0.4237 - learning_rate: 0.0010\nEpoch 12/40\n\u001b[1m450/450\u001b[0m \u001b[32m━━━━━━━━━━━━━━━━━━━━\u001b[0m\u001b[37m\u001b[0m \u001b[1m251s\u001b[0m 558ms/step - accuracy: 0.9311 - loss: 0.2050 - val_accuracy: 0.8656 - val_loss: 0.4610 - learning_rate: 0.0010\nEpoch 13/40\n\u001b[1m450/450\u001b[0m \u001b[32m━━━━━━━━━━━━━━━━━━━━\u001b[0m\u001b[37m\u001b[0m \u001b[1m251s\u001b[0m 558ms/step - accuracy: 0.8980 - loss: 0.3623 - val_accuracy: 0.7789 - val_loss: 0.7340 - learning_rate: 0.0010\nEpoch 14/40\n\u001b[1m450/450\u001b[0m \u001b[32m━━━━━━━━━━━━━━━━━━━━\u001b[0m\u001b[37m\u001b[0m \u001b[1m251s\u001b[0m 557ms/step - accuracy: 0.9472 - loss: 0.1672 - val_accuracy: 0.2336 - val_loss: 3.9372 - learning_rate: 0.0010\nEpoch 15/40\n\u001b[1m450/450\u001b[0m \u001b[32m━━━━━━━━━━━━━━━━━━━━\u001b[0m\u001b[37m\u001b[0m \u001b[1m259s\u001b[0m 550ms/step - accuracy: 0.9375 - loss: 0.2090 - val_accuracy: 0.7622 - val_loss: 0.8783 - learning_rate: 0.0010\nEpoch 16/40\n\u001b[1m450/450\u001b[0m \u001b[32m━━━━━━━━━━━━━━━━━━━━\u001b[0m\u001b[37m\u001b[0m \u001b[1m0s\u001b[0m 499ms/step - accuracy: 0.9649 - loss: 0.1163\nEpoch 16: ReduceLROnPlateau reducing learning rate to 0.00010000000474974513.\n\u001b[1m450/450\u001b[0m \u001b[32m━━━━━━━━━━━━━━━━━━━━\u001b[0m\u001b[37m\u001b[0m \u001b[1m248s\u001b[0m 551ms/step - accuracy: 0.9649 - loss: 0.1163 - val_accuracy: 0.5581 - val_loss: 2.7226 - learning_rate: 0.0010\nEpoch 17/40\n\u001b[1m450/450\u001b[0m \u001b[32m━━━━━━━━━━━━━━━━━━━━\u001b[0m\u001b[37m\u001b[0m \u001b[1m263s\u001b[0m 552ms/step - accuracy: 0.9700 - loss: 0.1116 - val_accuracy: 0.9353 - val_loss: 0.2255 - learning_rate: 1.0000e-04\nEpoch 18/40\n\u001b[1m450/450\u001b[0m \u001b[32m━━━━━━━━━━━━━━━━━━━━\u001b[0m\u001b[37m\u001b[0m \u001b[1m249s\u001b[0m 553ms/step - accuracy: 0.9807 - loss: 0.0687 - val_accuracy: 0.9372 - val_loss: 0.2182 - learning_rate: 1.0000e-04\nEpoch 19/40\n\u001b[1m450/450\u001b[0m \u001b[32m━━━━━━━━━━━━━━━━━━━━\u001b[0m\u001b[37m\u001b[0m \u001b[1m249s\u001b[0m 553ms/step - accuracy: 0.9828 - loss: 0.0622 - val_accuracy: 0.9361 - val_loss: 0.2255 - learning_rate: 1.0000e-04\nEpoch 20/40\n\u001b[1m450/450\u001b[0m \u001b[32m━━━━━━━━━━━━━━━━━━━━\u001b[0m\u001b[37m\u001b[0m \u001b[1m249s\u001b[0m 554ms/step - accuracy: 0.9843 - loss: 0.0571 - val_accuracy: 0.9367 - val_loss: 0.2242 - learning_rate: 1.0000e-04\nEpoch 21/40\n\u001b[1m450/450\u001b[0m \u001b[32m━━━━━━━━━━━━━━━━━━━━\u001b[0m\u001b[37m\u001b[0m \u001b[1m250s\u001b[0m 554ms/step - accuracy: 0.9857 - loss: 0.0541 - val_accuracy: 0.9400 - val_loss: 0.2139 - learning_rate: 1.0000e-04\nEpoch 22/40\n\u001b[1m450/450\u001b[0m \u001b[32m━━━━━━━━━━━━━━━━━━━━\u001b[0m\u001b[37m\u001b[0m \u001b[1m251s\u001b[0m 557ms/step - accuracy: 0.9865 - loss: 0.0514 - val_accuracy: 0.9414 - val_loss: 0.2206 - learning_rate: 1.0000e-04\nEpoch 23/40\n\u001b[1m450/450\u001b[0m \u001b[32m━━━━━━━━━━━━━━━━━━━━\u001b[0m\u001b[37m\u001b[0m \u001b[1m253s\u001b[0m 561ms/step - accuracy: 0.9862 - loss: 0.0499 - val_accuracy: 0.9325 - val_loss: 0.2517 - learning_rate: 1.0000e-04\nEpoch 24/40\n\u001b[1m450/450\u001b[0m \u001b[32m━━━━━━━━━━━━━━━━━━━━\u001b[0m\u001b[37m\u001b[0m \u001b[1m253s\u001b[0m 562ms/step - accuracy: 0.9875 - loss: 0.0474 - val_accuracy: 0.9367 - val_loss: 0.2234 - learning_rate: 1.0000e-04\nEpoch 25/40\n\u001b[1m450/450\u001b[0m \u001b[32m━━━━━━━━━━━━━━━━━━━━\u001b[0m\u001b[37m\u001b[0m \u001b[1m252s\u001b[0m 560ms/step - accuracy: 0.9882 - loss: 0.0449 - val_accuracy: 0.9467 - val_loss: 0.1961 - learning_rate: 1.0000e-04\nEpoch 26/40\n\u001b[1m450/450\u001b[0m \u001b[32m━━━━━━━━━━━━━━━━━━━━\u001b[0m\u001b[37m\u001b[0m \u001b[1m252s\u001b[0m 560ms/step - accuracy: 0.9893 - loss: 0.0410 - val_accuracy: 0.9461 - val_loss: 0.2013 - learning_rate: 1.0000e-04\nEpoch 27/40\n\u001b[1m450/450\u001b[0m \u001b[32m━━━━━━━━━━━━━━━━━━━━\u001b[0m\u001b[37m\u001b[0m \u001b[1m253s\u001b[0m 562ms/step - accuracy: 0.9907 - loss: 0.0384 - val_accuracy: 0.9419 - val_loss: 0.2166 - learning_rate: 1.0000e-04\nEpoch 28/40\n\u001b[1m450/450\u001b[0m \u001b[32m━━━━━━━━━━━━━━━━━━━━\u001b[0m\u001b[37m\u001b[0m \u001b[1m252s\u001b[0m 560ms/step - accuracy: 0.9902 - loss: 0.0369 - val_accuracy: 0.9447 - val_loss: 0.2049 - learning_rate: 1.0000e-04\nEpoch 29/40\n\u001b[1m450/450\u001b[0m \u001b[32m━━━━━━━━━━━━━━━━━━━━\u001b[0m\u001b[37m\u001b[0m \u001b[1m259s\u001b[0m 553ms/step - accuracy: 0.9916 - loss: 0.0341 - val_accuracy: 0.9511 - val_loss: 0.1881 - learning_rate: 1.0000e-04\nEpoch 30/40\n\u001b[1m450/450\u001b[0m \u001b[32m━━━━━━━━━━━━━━━━━━━━\u001b[0m\u001b[37m\u001b[0m \u001b[1m249s\u001b[0m 552ms/step - accuracy: 0.9923 - loss: 0.0315 - val_accuracy: 0.9519 - val_loss: 0.1759 - learning_rate: 1.0000e-04\nEpoch 31/40\n\u001b[1m450/450\u001b[0m \u001b[32m━━━━━━━━━━━━━━━━━━━━\u001b[0m\u001b[37m\u001b[0m \u001b[1m249s\u001b[0m 552ms/step - accuracy: 0.9920 - loss: 0.0304 - val_accuracy: 0.9536 - val_loss: 0.1742 - learning_rate: 1.0000e-04\nEpoch 32/40\n\u001b[1m450/450\u001b[0m \u001b[32m━━━━━━━━━━━━━━━━━━━━\u001b[0m\u001b[37m\u001b[0m \u001b[1m249s\u001b[0m 552ms/step - accuracy: 0.9934 - loss: 0.0263 - val_accuracy: 0.9517 - val_loss: 0.1832 - learning_rate: 1.0000e-04\nEpoch 33/40\n\u001b[1m450/450\u001b[0m \u001b[32m━━━━━━━━━━━━━━━━━━━━\u001b[0m\u001b[37m\u001b[0m \u001b[1m249s\u001b[0m 552ms/step - accuracy: 0.9916 - loss: 0.0311 - val_accuracy: 0.9308 - val_loss: 0.2600 - learning_rate: 1.0000e-04\nEpoch 34/40\n\u001b[1m450/450\u001b[0m \u001b[32m━━━━━━━━━━━━━━━━━━━━\u001b[0m\u001b[37m\u001b[0m \u001b[1m248s\u001b[0m 551ms/step - accuracy: 0.9924 - loss: 0.0273 - val_accuracy: 0.9536 - val_loss: 0.1735 - learning_rate: 1.0000e-04\nEpoch 35/40\n\u001b[1m450/450\u001b[0m \u001b[32m━━━━━━━━━━━━━━━━━━━━\u001b[0m\u001b[37m\u001b[0m \u001b[1m262s\u001b[0m 552ms/step - accuracy: 0.9938 - loss: 0.0229 - val_accuracy: 0.9511 - val_loss: 0.1933 - learning_rate: 1.0000e-04\nEpoch 36/40\n\u001b[1m450/450\u001b[0m \u001b[32m━━━━━━━━━━━━━━━━━━━━\u001b[0m\u001b[37m\u001b[0m \u001b[1m249s\u001b[0m 553ms/step - accuracy: 0.9938 - loss: 0.0237 - val_accuracy: 0.9572 - val_loss: 0.1593 - learning_rate: 1.0000e-04\nEpoch 37/40\n\u001b[1m450/450\u001b[0m \u001b[32m━━━━━━━━━━━━━━━━━━━━\u001b[0m\u001b[37m\u001b[0m \u001b[1m249s\u001b[0m 552ms/step - accuracy: 0.9940 - loss: 0.0219 - val_accuracy: 0.9578 - val_loss: 0.1529 - learning_rate: 1.0000e-04\nEpoch 38/40\n\u001b[1m450/450\u001b[0m \u001b[32m━━━━━━━━━━━━━━━━━━━━\u001b[0m\u001b[37m\u001b[0m \u001b[1m249s\u001b[0m 552ms/step - accuracy: 0.9955 - loss: 0.0182 - val_accuracy: 0.9572 - val_loss: 0.1585 - learning_rate: 1.0000e-04\nEpoch 39/40\n\u001b[1m450/450\u001b[0m \u001b[32m━━━━━━━━━━━━━━━━━━━━\u001b[0m\u001b[37m\u001b[0m \u001b[1m262s\u001b[0m 552ms/step - accuracy: 0.9969 - loss: 0.0160 - val_accuracy: 0.9594 - val_loss: 0.1511 - learning_rate: 1.0000e-04\nEpoch 40/40\n\u001b[1m450/450\u001b[0m \u001b[32m━━━━━━━━━━━━━━━━━━━━\u001b[0m\u001b[37m\u001b[0m \u001b[1m260s\u001b[0m 549ms/step - accuracy: 0.9960 - loss: 0.0163 - val_accuracy: 0.9494 - val_loss: 0.1906 - learning_rate: 1.0000e-04\n",
          "output_type": "stream"
        }
      ]
    },
    {
      "cell_type": "code",
      "source": [
        "import matplotlib.pyplot as plt\n",
        "loss = model_history.history['loss']\n",
        "val_loss = model_history.history['val_loss']\n",
        "plt.figure(figsize=(10,10))\n",
        "plt.plot(loss,color='r',label='train_loss')\n",
        "plt.plot(val_loss,color='b',label=\"val_loss\")\n",
        "plt.ylabel(\"loss\")\n",
        "plt.xlabel(\"epochs\")\n",
        "plt.legend()\n",
        "plt.show()\n"
      ],
      "metadata": {
        "execution": {
          "iopub.status.busy": "2024-08-09T19:53:55.385451Z",
          "iopub.execute_input": "2024-08-09T19:53:55.386279Z",
          "iopub.status.idle": "2024-08-09T19:53:55.721346Z",
          "shell.execute_reply.started": "2024-08-09T19:53:55.38624Z",
          "shell.execute_reply": "2024-08-09T19:53:55.720275Z"
        },
        "trusted": true,
        "id": "3IssYE_fyVjR",
        "outputId": "7e13c05a-3dc3-459f-ec80-982cc8c94395"
      },
      "execution_count": null,
      "outputs": [
        {
          "output_type": "display_data",
          "data": {
            "text/plain": "<Figure size 1000x1000 with 1 Axes>",
            "image/png": "[encoded data removed]"
          },
          "metadata": {}
        }
      ]
    },
    {
      "cell_type": "code",
      "source": [
        "result = model.evaluate(test_dataset)\n",
        "print(f\"Loss:{result[0]}\")\n",
        "print(f\"Accuarcy:{result[1] * 100}%\")"
      ],
      "metadata": {
        "execution": {
          "iopub.status.busy": "2024-08-09T19:55:02.779463Z",
          "iopub.execute_input": "2024-08-09T19:55:02.78044Z",
          "iopub.status.idle": "2024-08-09T19:55:43.546689Z",
          "shell.execute_reply.started": "2024-08-09T19:55:02.780398Z",
          "shell.execute_reply": "2024-08-09T19:55:43.545811Z"
        },
        "trusted": true,
        "id": "X_aSx1bCyVjR",
        "outputId": "a4284383-ebac-4ca6-8c2c-cb4956be56a5"
      },
      "execution_count": null,
      "outputs": [
        {
          "name": "stdout",
          "text": "\u001b[1m188/188\u001b[0m \u001b[32m━━━━━━━━━━━━━━━━━━━━\u001b[0m\u001b[37m\u001b[0m \u001b[1m41s\u001b[0m 216ms/step - accuracy: 0.9191 - loss: 0.2778\nLoss:0.2629503011703491\nAccuarcy:92.4833357334137%\n",
          "output_type": "stream"
        }
      ]
    }
  ]
}